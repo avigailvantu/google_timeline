{
 "cells": [
  {
   "cell_type": "markdown",
   "metadata": {},
   "source": [
    "## Google timeline"
   ]
  },
  {
   "cell_type": "markdown",
   "metadata": {},
   "source": [
    "NYU mhealth, March 2017, Avigail Vantu "
   ]
  },
  {
   "cell_type": "markdown",
   "metadata": {},
   "source": [
    "This notebook uses google timeline exported json one at a time and plot it eventually. \n"
   ]
  },
  {
   "cell_type": "code",
   "execution_count": 1,
   "metadata": {
    "collapsed": true
   },
   "outputs": [],
   "source": [
    "import glob\n",
    "#import fiona\n",
    "import os\n",
    "import json\n",
    "from pandas import DataFrame\n",
    "import pandas as pd\n",
    "import geopandas as gpd\n",
    "%matplotlib inline\n",
    "\n",
    "import ast\n",
    "import json\n",
    "import urllib\n",
    "import urllib2\n",
    "from cStringIO import StringIO\n",
    "#import mplleaflet\n",
    "import numpy as np\n",
    "import matplotlib.pyplot as plt\n",
    "from shapely.geometry import Point, Polygon\n",
    "from dateutil.parser import parse\n",
    "\n",
    "import requests\n",
    "import pandas as pd\n",
    "from dateutil import parser, rrule\n",
    "from datetime import datetime, time, date\n",
    "import time\n",
    "\n",
    "import pickle"
   ]
  },
  {
   "cell_type": "code",
   "execution_count": 2,
   "metadata": {
    "collapsed": true
   },
   "outputs": [],
   "source": [
    "from time import gmtime, strftime"
   ]
  },
  {
   "cell_type": "code",
   "execution_count": 3,
   "metadata": {
    "collapsed": true
   },
   "outputs": [],
   "source": [
    "from shapely.geometry import Point\n",
    "from geopandas import GeoDataFrame"
   ]
  },
  {
   "cell_type": "code",
   "execution_count": null,
   "metadata": {
    "collapsed": true
   },
   "outputs": [],
   "source": []
  },
  {
   "cell_type": "markdown",
   "metadata": {},
   "source": [
    " read data"
   ]
  },
  {
   "cell_type": "code",
   "execution_count": 4,
   "metadata": {
    "collapsed": true
   },
   "outputs": [],
   "source": [
    "with open('LocationHistory.json') as json_data:\n",
    "    d = json.load(json_data)\n",
    "#  print(d)"
   ]
  },
  {
   "cell_type": "markdown",
   "metadata": {},
   "source": [
    "## change format to geojson (geometry features) "
   ]
  },
  {
   "cell_type": "code",
   "execution_count": 5,
   "metadata": {
    "collapsed": true
   },
   "outputs": [],
   "source": [
    "\n",
    "j = json.load(open(\"LocationHistory.json\", \"r\"))\n",
    "locs = j[\"locations\"]\n",
    "geoj= {\"type\":\"FeatureCollection\"}\n",
    "geoj[\"features\"] = []\n",
    "for i in locs:\n",
    "    feature = {\"type\":\"Feature\"}\n",
    "    feature[\"geometry\"] = {\"type\":\"Point\"}\n",
    "    coords = []\n",
    "    coords.append(float(i[\"longitudeE7\"])/10000000)\n",
    "    coords.append(float(i[\"latitudeE7\"])/10000000)\n",
    "    feature[\"geometry\"][\"coordinates\"] = coords\n",
    "# unix tine / 1000\n",
    "    feature[\"properties\"] = {\"timestamp\": float(i[\"timestampMs\"])/1000}\n",
    "    if i.has_key(\"activitys\"):\n",
    "        feature[\"properties\"][\"activitys\"] = i[\"activitys\"]\n",
    "    feature[\"properties\"][\"accuracy\"] = i[\"accuracy\"]\n",
    "    geoj[\"features\"].append(feature)\n",
    "\n",
    "f = open(\"loc.geojson\",\"w\")\n",
    "f.write(json.dumps(geoj))\n",
    "f.close()"
   ]
  },
  {
   "cell_type": "markdown",
   "metadata": {},
   "source": [
    "\"loc\" is the geojson exported and that can be imported to CARTO "
   ]
  },
  {
   "cell_type": "code",
   "execution_count": 6,
   "metadata": {},
   "outputs": [
    {
     "data": {
      "text/plain": [
       "{'geometry': {'coordinates': [-73.9941689, 40.7291516], 'type': 'Point'},\n",
       " 'properties': {'accuracy': 10, 'timestamp': 1507555719.0},\n",
       " 'type': 'Feature'}"
      ]
     },
     "execution_count": 6,
     "metadata": {},
     "output_type": "execute_result"
    }
   ],
   "source": [
    "geoj[\"features\"][0]"
   ]
  },
  {
   "cell_type": "code",
   "execution_count": 7,
   "metadata": {
    "scrolled": false
   },
   "outputs": [
    {
     "data": {
      "text/plain": [
       "{'coordinates': [-73.9747127, 40.6912949], 'type': 'Point'}"
      ]
     },
     "execution_count": 7,
     "metadata": {},
     "output_type": "execute_result"
    }
   ],
   "source": [
    "geoj[\"features\"][72][\"geometry\"]"
   ]
  },
  {
   "cell_type": "markdown",
   "metadata": {},
   "source": [
    "append the geojson into lists and then into dataframe "
   ]
  },
  {
   "cell_type": "code",
   "execution_count": 8,
   "metadata": {
    "collapsed": true
   },
   "outputs": [],
   "source": [
    "list_p = []\n",
    "for i in range(len(geoj[\"features\"])):\n",
    "    X = geoj[\"features\"][i][\"geometry\"][\"coordinates\"]\n",
    "    list_p.append(Point(X[0],X[1]))"
   ]
  },
  {
   "cell_type": "markdown",
   "metadata": {},
   "source": [
    "## plot data"
   ]
  },
  {
   "cell_type": "code",
   "execution_count": 9,
   "metadata": {},
   "outputs": [
    {
     "data": {
      "text/plain": [
       "(4500000, 4520000)"
      ]
     },
     "execution_count": 9,
     "metadata": {},
     "output_type": "execute_result"
    },
    {
     "data": {
      "image/png": "[encoded data removed]",
      "text/plain": [
       "<matplotlib.figure.Figure at 0x113030710>"
      ]
     },
     "metadata": {},
     "output_type": "display_data"
    }
   ],
   "source": [
    "#print list_p\n",
    "#for i in list_p:\n",
    "#    print i\n",
    "df = pd.DataFrame(list_p)\n",
    "df[\"geometry\"] = df[0]\n",
    "del(df[0])\n",
    "#df\n",
    "\n",
    "crs = {'init': 'epsg:4326'}\n",
    "\n",
    "# Set the coordinate reference system to WGS-84\n",
    "#tobacco.crs = {'init' :'epsg:4326'}\n",
    "\n",
    "# Project data to UTM zone 18N - i.e. flatten the earth.\n",
    "#tobacco = tobacco.to_crs({'init': 'epsg:26918'})\n",
    "\n",
    "#geometry = [Point(xy) for xy in zip(df.Lon, df.Lat)]\n",
    "#df = df.drop(['Lon', 'Lat'], axis=1)\n",
    "geo_df = GeoDataFrame(df, crs=crs)\n",
    "geo_df = geo_df.to_crs({'init': 'epsg:26918'})\n",
    "\n",
    "#geo_df\n",
    "\n",
    "f, ax = plt.subplots(1,figsize = (4,6))\n",
    "geo_df.plot(c='k',marker='.',ax=ax)\n",
    "plt.xlim(580000,588000)\n",
    "plt.ylim(4500000,4520000)"
   ]
  },
  {
   "cell_type": "code",
   "execution_count": 10,
   "metadata": {
    "collapsed": true
   },
   "outputs": [],
   "source": [
    "# Get NYC shapefile\n",
    "nyc = gpd.read_file('NYC.geojson')\n",
    "# project to utm 18\n",
    "nyc = nyc.to_crs({'init': 'epsg:26918'})"
   ]
  },
  {
   "cell_type": "markdown",
   "metadata": {
    "collapsed": true
   },
   "source": [
    "f, ax = plt.subplots(1,figsize = (7,10))\n",
    "plt.xlim(580000,588000)\n",
    "plt.ylim(4500000,4520000)\n",
    "nyc.plot(ax=ax,c='blue',facecolor='0.88')\n",
    "geo_df.plot(ax=ax,c='k',marker='.')\n",
    "plt.style.use('seaborn-dark-palette')\n",
    "\n",
    "#plt.xlim([nyc.bounds['minx'].min(),nyc.bounds['maxx'].max()])\n",
    "#plt.ylim([nyc.bounds['miny'].min(),nyc.bounds['maxy'].max()])"
   ]
  },
  {
   "cell_type": "code",
   "execution_count": 11,
   "metadata": {
    "collapsed": true
   },
   "outputs": [],
   "source": [
    "# create a new list for  \n",
    "#[1] = lat [0] = lon \n",
    "lat = []\n",
    "for i in range(len(geoj[\"features\"])):\n",
    "    X = geoj[\"features\"][i][\"geometry\"][\"coordinates\"][1]\n",
    "    lat.append(X)\n",
    "    \n",
    "lon = []\n",
    "for i in range(len(geoj[\"features\"])):\n",
    "    X = geoj[\"features\"][i][\"geometry\"][\"coordinates\"][0]\n",
    "    lon.append(X)"
   ]
  },
  {
   "cell_type": "code",
   "execution_count": 12,
   "metadata": {},
   "outputs": [
    {
     "data": {
      "text/plain": [
       "11670"
      ]
     },
     "execution_count": 12,
     "metadata": {},
     "output_type": "execute_result"
    }
   ],
   "source": [
    "len(geoj['features'])"
   ]
  },
  {
   "cell_type": "code",
   "execution_count": 13,
   "metadata": {},
   "outputs": [
    {
     "data": {
      "text/plain": [
       "{'geometry': {'coordinates': [-73.9941689, 40.7291516], 'type': 'Point'},\n",
       " 'properties': {'accuracy': 10, 'timestamp': 1507555719.0},\n",
       " 'type': 'Feature'}"
      ]
     },
     "execution_count": 13,
     "metadata": {},
     "output_type": "execute_result"
    }
   ],
   "source": [
    "geoj['features'][0]"
   ]
  },
  {
   "cell_type": "markdown",
   "metadata": {},
   "source": [
    "## Convert from linux time to timestamp "
   ]
  },
  {
   "cell_type": "code",
   "execution_count": 14,
   "metadata": {},
   "outputs": [
    {
     "data": {
      "text/plain": [
       "[1507555719.0,\n",
       " 1507555595.968,\n",
       " 1507555451.255,\n",
       " 1507555215.88,\n",
       " 1507554844.688,\n",
       " 1507554541.736,\n",
       " 1507554141.0,\n",
       " 1507554001.005,\n",
       " 1507553888.967]"
      ]
     },
     "execution_count": 14,
     "metadata": {},
     "output_type": "execute_result"
    }
   ],
   "source": [
    "## testing geojson to df:\n",
    "# createa a list of the time stamp  - linux time\n",
    "list_time = []\n",
    "for i in range(len(geoj[\"features\"])):\n",
    "    Y = geoj[\"features\"][i][\"properties\"][\"timestamp\"]\n",
    "    list_time.append(Y)\n",
    "\n",
    "#geoj[\"features\"][1][\"geometry\"][\"coordinates\"]\n",
    "#first 10 time stamps\n",
    "list_time[:9]"
   ]
  },
  {
   "cell_type": "code",
   "execution_count": 15,
   "metadata": {},
   "outputs": [
    {
     "data": {
      "text/plain": [
       "['2017-10-09 09:28:39',\n",
       " '2017-10-09 09:26:35',\n",
       " '2017-10-09 09:24:11',\n",
       " '2017-10-09 09:20:15',\n",
       " '2017-10-09 09:14:04',\n",
       " '2017-10-09 09:09:01',\n",
       " '2017-10-09 09:02:21',\n",
       " '2017-10-09 09:00:01',\n",
       " '2017-10-09 08:58:08',\n",
       " '2017-10-08 19:07:27']"
      ]
     },
     "execution_count": 15,
     "metadata": {},
     "output_type": "execute_result"
    }
   ],
   "source": [
    "#convert daytime manualy, for each linux time int in the list apply lambda: convert to y\n",
    "import datetime\n",
    "\n",
    "#trying out lambds for linuxtime \n",
    "time = []\n",
    "time = map(lambda x: (\n",
    "    datetime.datetime.fromtimestamp(\n",
    "        int(x)\n",
    "    ).strftime('%Y-%m-%d %H:%M:%S')\n",
    ") , list_time)\n",
    "\n",
    "\n",
    "\n",
    "#sorted(time, reverse = True)\n",
    "time[:10]"
   ]
  },
  {
   "cell_type": "markdown",
   "metadata": {},
   "source": [
    "## split the date into date only column -- date2"
   ]
  },
  {
   "cell_type": "code",
   "execution_count": 16,
   "metadata": {
    "collapsed": true
   },
   "outputs": [],
   "source": [
    "#list --> DataFrame\n",
    "df1 = pd.DataFrame(time, columns=[\"date\"])\n",
    "\n",
    "# creating new column for \n",
    "df1['date2'] = df1['date'].apply(lambda x: x.split(' ')[0])\n",
    "#df1[df1['date2'] == '2017-03-03']\n",
    "#df1"
   ]
  },
  {
   "cell_type": "code",
   "execution_count": 17,
   "metadata": {
    "collapsed": true
   },
   "outputs": [],
   "source": [
    "#minimize inot only time of the day\n",
    "\n",
    "df1['time'] = df1['date'].apply(lambda x: x.split(' ')[1])\n",
    "\n",
    "#df1['date'][1:2]"
   ]
  },
  {
   "cell_type": "code",
   "execution_count": 18,
   "metadata": {},
   "outputs": [
    {
     "data": {
      "text/plain": [
       "0    [09, 28, 39]\n",
       "1    [09, 26, 35]\n",
       "Name: time1, dtype: object"
      ]
     },
     "execution_count": 18,
     "metadata": {},
     "output_type": "execute_result"
    }
   ],
   "source": [
    "#leave only hour\n",
    "df1['time1'] = df1['time'].apply(lambda x: x.split(':'))\n",
    "df1['time1'].head(2)"
   ]
  },
  {
   "cell_type": "code",
   "execution_count": 19,
   "metadata": {
    "collapsed": true
   },
   "outputs": [],
   "source": [
    "#df1['time2'] = df1['time1'].apply(lambda x: x.split(',')[-3])"
   ]
  },
  {
   "cell_type": "code",
   "execution_count": 20,
   "metadata": {},
   "outputs": [
    {
     "data": {
      "text/plain": [
       "['09', '26', '35']"
      ]
     },
     "execution_count": 20,
     "metadata": {},
     "output_type": "execute_result"
    }
   ],
   "source": [
    "df1['time1'][1]"
   ]
  },
  {
   "cell_type": "code",
   "execution_count": 21,
   "metadata": {
    "collapsed": true
   },
   "outputs": [],
   "source": [
    "#df1['time'] 09:28:39"
   ]
  },
  {
   "cell_type": "code",
   "execution_count": 22,
   "metadata": {},
   "outputs": [
    {
     "data": {
      "text/html": [
       "<div>\n",
       "<style>\n",
       "    .dataframe thead tr:only-child th {\n",
       "        text-align: right;\n",
       "    }\n",
       "\n",
       "    .dataframe thead th {\n",
       "        text-align: left;\n",
       "    }\n",
       "\n",
       "    .dataframe tbody tr th {\n",
       "        vertical-align: top;\n",
       "    }\n",
       "</style>\n",
       "<table border=\"1\" class=\"dataframe\">\n",
       "  <thead>\n",
       "    <tr style=\"text-align: right;\">\n",
       "      <th></th>\n",
       "      <th>date</th>\n",
       "      <th>date2</th>\n",
       "      <th>time</th>\n",
       "      <th>time1</th>\n",
       "      <th>lon</th>\n",
       "      <th>lat</th>\n",
       "    </tr>\n",
       "  </thead>\n",
       "  <tbody>\n",
       "    <tr>\n",
       "      <th>0</th>\n",
       "      <td>2017-10-09 09:28:39</td>\n",
       "      <td>2017-10-09</td>\n",
       "      <td>09:28:39</td>\n",
       "      <td>[09, 28, 39]</td>\n",
       "      <td>-73.994169</td>\n",
       "      <td>40.729152</td>\n",
       "    </tr>\n",
       "  </tbody>\n",
       "</table>\n",
       "</div>"
      ],
      "text/plain": [
       "                  date       date2      time         time1        lon  \\\n",
       "0  2017-10-09 09:28:39  2017-10-09  09:28:39  [09, 28, 39] -73.994169   \n",
       "\n",
       "         lat  \n",
       "0  40.729152  "
      ]
     },
     "execution_count": 22,
     "metadata": {},
     "output_type": "execute_result"
    }
   ],
   "source": [
    "# add the lon and lat to the df\n",
    "df1['lon'] = lon\n",
    "df1['lat'] = lat\n",
    "df1.head(1)"
   ]
  },
  {
   "cell_type": "code",
   "execution_count": 23,
   "metadata": {},
   "outputs": [
    {
     "data": {
      "text/plain": [
       "11670"
      ]
     },
     "execution_count": 23,
     "metadata": {},
     "output_type": "execute_result"
    }
   ],
   "source": [
    "len(df1)"
   ]
  },
  {
   "cell_type": "code",
   "execution_count": 24,
   "metadata": {
    "collapsed": true
   },
   "outputs": [],
   "source": [
    "# unique values for days\n",
    "\n",
    "p = df1.date2.unique()\n",
    "# unique dates from array to list \n",
    "p_list = p.tolist()\n",
    "#p_list"
   ]
  },
  {
   "cell_type": "code",
   "execution_count": 25,
   "metadata": {},
   "outputs": [
    {
     "name": "stdout",
     "output_type": "stream",
     "text": [
      "date      object\n",
      "date2     object\n",
      "time      object\n",
      "time1     object\n",
      "lon      float64\n",
      "lat      float64\n",
      "dtype: object\n"
     ]
    }
   ],
   "source": [
    "print df1.dtypes"
   ]
  },
  {
   "cell_type": "code",
   "execution_count": 26,
   "metadata": {
    "collapsed": true
   },
   "outputs": [],
   "source": [
    "#df1('date').isoweekday () in range(1, 6)\n",
    "#df1['day_of_week'] = df1['date'].apply(lambda x: x.weekday())"
   ]
  },
  {
   "cell_type": "code",
   "execution_count": 27,
   "metadata": {},
   "outputs": [
    {
     "name": "stdout",
     "output_type": "stream",
     "text": [
      "[datetime.datetime(2017, 10, 9, 9, 28, 39), datetime.datetime(2017, 10, 9, 9, 26, 35), datetime.datetime(2017, 10, 9, 9, 24, 11), datetime.datetime(2017, 10, 9, 9, 20, 15), datetime.datetime(2017, 10, 9, 9, 14, 4)]\n",
      "[0, 0, 0, 0, 0]\n"
     ]
    }
   ],
   "source": [
    "#appending the parsed date into a list \n",
    "day_of_week = []\n",
    "for i in range(len(df1)):\n",
    "    d = parse(df1.date[i])\n",
    "    day_of_week.append(d)\n",
    "    \n",
    "# apply weekday function to the parsed date column     \n",
    "weekday = []    \n",
    "for i in range(len(day_of_week)):\n",
    "    g = day_of_week[i].weekday()\n",
    "    weekday.append(g)\n",
    "\n",
    "print day_of_week[:5]\n",
    "print weekday[:5]"
   ]
  },
  {
   "cell_type": "markdown",
   "metadata": {},
   "source": [
    "## sparse to add day of the week and weekdne/ weekday "
   ]
  },
  {
   "cell_type": "markdown",
   "metadata": {},
   "source": [
    "\n",
    "daytime sparser: 0= monday, 1=tuesdya 2=wed, 3=thursday, 4=friday, 5=sat , 6= sunday "
   ]
  },
  {
   "cell_type": "code",
   "execution_count": 28,
   "metadata": {
    "collapsed": true
   },
   "outputs": [],
   "source": [
    "#add weekday # into the df1\n",
    "\n",
    "#daytime sparser: 0= monday, 1=tuesdya 2=wed, 3=thursday, 4=friday, 5=sat , 6= sunday \n",
    "df1['weekday'] = weekday\n"
   ]
  },
  {
   "cell_type": "code",
   "execution_count": 29,
   "metadata": {},
   "outputs": [
    {
     "data": {
      "text/html": [
       "<div>\n",
       "<style>\n",
       "    .dataframe thead tr:only-child th {\n",
       "        text-align: right;\n",
       "    }\n",
       "\n",
       "    .dataframe thead th {\n",
       "        text-align: left;\n",
       "    }\n",
       "\n",
       "    .dataframe tbody tr th {\n",
       "        vertical-align: top;\n",
       "    }\n",
       "</style>\n",
       "<table border=\"1\" class=\"dataframe\">\n",
       "  <thead>\n",
       "    <tr style=\"text-align: right;\">\n",
       "      <th></th>\n",
       "      <th>date</th>\n",
       "      <th>date2</th>\n",
       "      <th>time</th>\n",
       "      <th>time1</th>\n",
       "      <th>lon</th>\n",
       "      <th>lat</th>\n",
       "      <th>weekday</th>\n",
       "      <th>workday</th>\n",
       "    </tr>\n",
       "  </thead>\n",
       "  <tbody>\n",
       "    <tr>\n",
       "      <th>0</th>\n",
       "      <td>2017-10-09 09:28:39</td>\n",
       "      <td>2017-10-09</td>\n",
       "      <td>09:28:39</td>\n",
       "      <td>[09, 28, 39]</td>\n",
       "      <td>-73.994169</td>\n",
       "      <td>40.729152</td>\n",
       "      <td>0</td>\n",
       "      <td>1</td>\n",
       "    </tr>\n",
       "    <tr>\n",
       "      <th>1</th>\n",
       "      <td>2017-10-09 09:26:35</td>\n",
       "      <td>2017-10-09</td>\n",
       "      <td>09:26:35</td>\n",
       "      <td>[09, 26, 35]</td>\n",
       "      <td>-73.993865</td>\n",
       "      <td>40.729172</td>\n",
       "      <td>0</td>\n",
       "      <td>1</td>\n",
       "    </tr>\n",
       "    <tr>\n",
       "      <th>2</th>\n",
       "      <td>2017-10-09 09:24:11</td>\n",
       "      <td>2017-10-09</td>\n",
       "      <td>09:24:11</td>\n",
       "      <td>[09, 24, 11]</td>\n",
       "      <td>-73.995774</td>\n",
       "      <td>40.726589</td>\n",
       "      <td>0</td>\n",
       "      <td>1</td>\n",
       "    </tr>\n",
       "    <tr>\n",
       "      <th>3</th>\n",
       "      <td>2017-10-09 09:20:15</td>\n",
       "      <td>2017-10-09</td>\n",
       "      <td>09:20:15</td>\n",
       "      <td>[09, 20, 15]</td>\n",
       "      <td>-73.994261</td>\n",
       "      <td>40.727734</td>\n",
       "      <td>0</td>\n",
       "      <td>1</td>\n",
       "    </tr>\n",
       "    <tr>\n",
       "      <th>4</th>\n",
       "      <td>2017-10-09 09:14:04</td>\n",
       "      <td>2017-10-09</td>\n",
       "      <td>09:14:04</td>\n",
       "      <td>[09, 14, 04]</td>\n",
       "      <td>-73.988392</td>\n",
       "      <td>40.703564</td>\n",
       "      <td>0</td>\n",
       "      <td>1</td>\n",
       "    </tr>\n",
       "    <tr>\n",
       "      <th>5</th>\n",
       "      <td>2017-10-09 09:09:01</td>\n",
       "      <td>2017-10-09</td>\n",
       "      <td>09:09:01</td>\n",
       "      <td>[09, 09, 01]</td>\n",
       "      <td>-73.985317</td>\n",
       "      <td>40.691576</td>\n",
       "      <td>0</td>\n",
       "      <td>1</td>\n",
       "    </tr>\n",
       "    <tr>\n",
       "      <th>6</th>\n",
       "      <td>2017-10-09 09:02:21</td>\n",
       "      <td>2017-10-09</td>\n",
       "      <td>09:02:21</td>\n",
       "      <td>[09, 02, 21]</td>\n",
       "      <td>-73.976321</td>\n",
       "      <td>40.683191</td>\n",
       "      <td>0</td>\n",
       "      <td>1</td>\n",
       "    </tr>\n",
       "    <tr>\n",
       "      <th>7</th>\n",
       "      <td>2017-10-09 09:00:01</td>\n",
       "      <td>2017-10-09</td>\n",
       "      <td>09:00:01</td>\n",
       "      <td>[09, 00, 01]</td>\n",
       "      <td>-73.976800</td>\n",
       "      <td>40.681629</td>\n",
       "      <td>0</td>\n",
       "      <td>1</td>\n",
       "    </tr>\n",
       "    <tr>\n",
       "      <th>8</th>\n",
       "      <td>2017-10-09 08:58:08</td>\n",
       "      <td>2017-10-09</td>\n",
       "      <td>08:58:08</td>\n",
       "      <td>[08, 58, 08]</td>\n",
       "      <td>-73.977585</td>\n",
       "      <td>40.680441</td>\n",
       "      <td>0</td>\n",
       "      <td>1</td>\n",
       "    </tr>\n",
       "    <tr>\n",
       "      <th>9</th>\n",
       "      <td>2017-10-08 19:07:27</td>\n",
       "      <td>2017-10-08</td>\n",
       "      <td>19:07:27</td>\n",
       "      <td>[19, 07, 27]</td>\n",
       "      <td>-73.977666</td>\n",
       "      <td>40.680490</td>\n",
       "      <td>6</td>\n",
       "      <td>0</td>\n",
       "    </tr>\n",
       "    <tr>\n",
       "      <th>10</th>\n",
       "      <td>2017-10-08 19:04:32</td>\n",
       "      <td>2017-10-08</td>\n",
       "      <td>19:04:32</td>\n",
       "      <td>[19, 04, 32]</td>\n",
       "      <td>-73.977551</td>\n",
       "      <td>40.680388</td>\n",
       "      <td>6</td>\n",
       "      <td>0</td>\n",
       "    </tr>\n",
       "    <tr>\n",
       "      <th>11</th>\n",
       "      <td>2017-10-08 19:02:14</td>\n",
       "      <td>2017-10-08</td>\n",
       "      <td>19:02:14</td>\n",
       "      <td>[19, 02, 14]</td>\n",
       "      <td>-73.977706</td>\n",
       "      <td>40.680469</td>\n",
       "      <td>6</td>\n",
       "      <td>0</td>\n",
       "    </tr>\n",
       "    <tr>\n",
       "      <th>12</th>\n",
       "      <td>2017-10-08 19:02:11</td>\n",
       "      <td>2017-10-08</td>\n",
       "      <td>19:02:11</td>\n",
       "      <td>[19, 02, 11]</td>\n",
       "      <td>-73.977620</td>\n",
       "      <td>40.680436</td>\n",
       "      <td>6</td>\n",
       "      <td>0</td>\n",
       "    </tr>\n",
       "    <tr>\n",
       "      <th>13</th>\n",
       "      <td>2017-10-08 18:59:25</td>\n",
       "      <td>2017-10-08</td>\n",
       "      <td>18:59:25</td>\n",
       "      <td>[18, 59, 25]</td>\n",
       "      <td>-73.978562</td>\n",
       "      <td>40.679281</td>\n",
       "      <td>6</td>\n",
       "      <td>0</td>\n",
       "    </tr>\n",
       "    <tr>\n",
       "      <th>14</th>\n",
       "      <td>2017-10-08 18:52:50</td>\n",
       "      <td>2017-10-08</td>\n",
       "      <td>18:52:50</td>\n",
       "      <td>[18, 52, 50]</td>\n",
       "      <td>-73.978573</td>\n",
       "      <td>40.679285</td>\n",
       "      <td>6</td>\n",
       "      <td>0</td>\n",
       "    </tr>\n",
       "    <tr>\n",
       "      <th>15</th>\n",
       "      <td>2017-10-08 18:50:50</td>\n",
       "      <td>2017-10-08</td>\n",
       "      <td>18:50:50</td>\n",
       "      <td>[18, 50, 50]</td>\n",
       "      <td>-73.978577</td>\n",
       "      <td>40.679260</td>\n",
       "      <td>6</td>\n",
       "      <td>0</td>\n",
       "    </tr>\n",
       "    <tr>\n",
       "      <th>16</th>\n",
       "      <td>2017-10-08 18:48:24</td>\n",
       "      <td>2017-10-08</td>\n",
       "      <td>18:48:24</td>\n",
       "      <td>[18, 48, 24]</td>\n",
       "      <td>-73.978619</td>\n",
       "      <td>40.679211</td>\n",
       "      <td>6</td>\n",
       "      <td>0</td>\n",
       "    </tr>\n",
       "    <tr>\n",
       "      <th>17</th>\n",
       "      <td>2017-10-08 18:47:33</td>\n",
       "      <td>2017-10-08</td>\n",
       "      <td>18:47:33</td>\n",
       "      <td>[18, 47, 33]</td>\n",
       "      <td>-73.979903</td>\n",
       "      <td>40.677234</td>\n",
       "      <td>6</td>\n",
       "      <td>0</td>\n",
       "    </tr>\n",
       "    <tr>\n",
       "      <th>18</th>\n",
       "      <td>2017-10-08 18:01:57</td>\n",
       "      <td>2017-10-08</td>\n",
       "      <td>18:01:57</td>\n",
       "      <td>[18, 01, 57]</td>\n",
       "      <td>-73.980013</td>\n",
       "      <td>40.677255</td>\n",
       "      <td>6</td>\n",
       "      <td>0</td>\n",
       "    </tr>\n",
       "    <tr>\n",
       "      <th>19</th>\n",
       "      <td>2017-10-08 17:56:11</td>\n",
       "      <td>2017-10-08</td>\n",
       "      <td>17:56:11</td>\n",
       "      <td>[17, 56, 11]</td>\n",
       "      <td>-73.979929</td>\n",
       "      <td>40.677181</td>\n",
       "      <td>6</td>\n",
       "      <td>0</td>\n",
       "    </tr>\n",
       "  </tbody>\n",
       "</table>\n",
       "</div>"
      ],
      "text/plain": [
       "                   date       date2      time         time1        lon  \\\n",
       "0   2017-10-09 09:28:39  2017-10-09  09:28:39  [09, 28, 39] -73.994169   \n",
       "1   2017-10-09 09:26:35  2017-10-09  09:26:35  [09, 26, 35] -73.993865   \n",
       "2   2017-10-09 09:24:11  2017-10-09  09:24:11  [09, 24, 11] -73.995774   \n",
       "3   2017-10-09 09:20:15  2017-10-09  09:20:15  [09, 20, 15] -73.994261   \n",
       "4   2017-10-09 09:14:04  2017-10-09  09:14:04  [09, 14, 04] -73.988392   \n",
       "5   2017-10-09 09:09:01  2017-10-09  09:09:01  [09, 09, 01] -73.985317   \n",
       "6   2017-10-09 09:02:21  2017-10-09  09:02:21  [09, 02, 21] -73.976321   \n",
       "7   2017-10-09 09:00:01  2017-10-09  09:00:01  [09, 00, 01] -73.976800   \n",
       "8   2017-10-09 08:58:08  2017-10-09  08:58:08  [08, 58, 08] -73.977585   \n",
       "9   2017-10-08 19:07:27  2017-10-08  19:07:27  [19, 07, 27] -73.977666   \n",
       "10  2017-10-08 19:04:32  2017-10-08  19:04:32  [19, 04, 32] -73.977551   \n",
       "11  2017-10-08 19:02:14  2017-10-08  19:02:14  [19, 02, 14] -73.977706   \n",
       "12  2017-10-08 19:02:11  2017-10-08  19:02:11  [19, 02, 11] -73.977620   \n",
       "13  2017-10-08 18:59:25  2017-10-08  18:59:25  [18, 59, 25] -73.978562   \n",
       "14  2017-10-08 18:52:50  2017-10-08  18:52:50  [18, 52, 50] -73.978573   \n",
       "15  2017-10-08 18:50:50  2017-10-08  18:50:50  [18, 50, 50] -73.978577   \n",
       "16  2017-10-08 18:48:24  2017-10-08  18:48:24  [18, 48, 24] -73.978619   \n",
       "17  2017-10-08 18:47:33  2017-10-08  18:47:33  [18, 47, 33] -73.979903   \n",
       "18  2017-10-08 18:01:57  2017-10-08  18:01:57  [18, 01, 57] -73.980013   \n",
       "19  2017-10-08 17:56:11  2017-10-08  17:56:11  [17, 56, 11] -73.979929   \n",
       "\n",
       "          lat  weekday workday  \n",
       "0   40.729152        0       1  \n",
       "1   40.729172        0       1  \n",
       "2   40.726589        0       1  \n",
       "3   40.727734        0       1  \n",
       "4   40.703564        0       1  \n",
       "5   40.691576        0       1  \n",
       "6   40.683191        0       1  \n",
       "7   40.681629        0       1  \n",
       "8   40.680441        0       1  \n",
       "9   40.680490        6       0  \n",
       "10  40.680388        6       0  \n",
       "11  40.680469        6       0  \n",
       "12  40.680436        6       0  \n",
       "13  40.679281        6       0  \n",
       "14  40.679285        6       0  \n",
       "15  40.679260        6       0  \n",
       "16  40.679211        6       0  \n",
       "17  40.677234        6       0  \n",
       "18  40.677255        6       0  \n",
       "19  40.677181        6       0  "
      ]
     },
     "execution_count": 29,
     "metadata": {},
     "output_type": "execute_result"
    }
   ],
   "source": [
    "# create new binaric column for weekday (1) / weekend (0)\n",
    "\n",
    "df1['workday'] = df1.apply(lambda row: \"1\" if row['weekday'] < 5 else \"0\", axis=1)\n",
    "df1.head(20)\n",
    "\n",
    "#df1[df1['weekday']==3]"
   ]
  },
  {
   "cell_type": "code",
   "execution_count": 31,
   "metadata": {},
   "outputs": [],
   "source": [
    "#bins = [09:00:00,]\n",
    "#df1[df1['time']<'09:00:00'and df1['time']>'18:00:00']"
   ]
  },
  {
   "cell_type": "code",
   "execution_count": 32,
   "metadata": {
    "collapsed": true
   },
   "outputs": [],
   "source": [
    "#len(df1['date'].between('2017-10-01 23:46:41', '2017-10-01 11:51:05', inclusive=True))\n"
   ]
  },
  {
   "cell_type": "code",
   "execution_count": 33,
   "metadata": {},
   "outputs": [
    {
     "data": {
      "text/html": [
       "<div>\n",
       "<style>\n",
       "    .dataframe thead tr:only-child th {\n",
       "        text-align: right;\n",
       "    }\n",
       "\n",
       "    .dataframe thead th {\n",
       "        text-align: left;\n",
       "    }\n",
       "\n",
       "    .dataframe tbody tr th {\n",
       "        vertical-align: top;\n",
       "    }\n",
       "</style>\n",
       "<table border=\"1\" class=\"dataframe\">\n",
       "  <thead>\n",
       "    <tr style=\"text-align: right;\">\n",
       "      <th></th>\n",
       "      <th>date</th>\n",
       "      <th>date2</th>\n",
       "      <th>time</th>\n",
       "      <th>time1</th>\n",
       "      <th>lon</th>\n",
       "      <th>lat</th>\n",
       "      <th>weekday</th>\n",
       "      <th>workday</th>\n",
       "    </tr>\n",
       "  </thead>\n",
       "  <tbody>\n",
       "    <tr>\n",
       "      <th>9</th>\n",
       "      <td>2017-10-08 19:07:27</td>\n",
       "      <td>2017-10-08</td>\n",
       "      <td>19:07:27</td>\n",
       "      <td>[19, 07, 27]</td>\n",
       "      <td>-73.977666</td>\n",
       "      <td>40.680490</td>\n",
       "      <td>6</td>\n",
       "      <td>0</td>\n",
       "    </tr>\n",
       "    <tr>\n",
       "      <th>10</th>\n",
       "      <td>2017-10-08 19:04:32</td>\n",
       "      <td>2017-10-08</td>\n",
       "      <td>19:04:32</td>\n",
       "      <td>[19, 04, 32]</td>\n",
       "      <td>-73.977551</td>\n",
       "      <td>40.680388</td>\n",
       "      <td>6</td>\n",
       "      <td>0</td>\n",
       "    </tr>\n",
       "    <tr>\n",
       "      <th>11</th>\n",
       "      <td>2017-10-08 19:02:14</td>\n",
       "      <td>2017-10-08</td>\n",
       "      <td>19:02:14</td>\n",
       "      <td>[19, 02, 14]</td>\n",
       "      <td>-73.977706</td>\n",
       "      <td>40.680469</td>\n",
       "      <td>6</td>\n",
       "      <td>0</td>\n",
       "    </tr>\n",
       "    <tr>\n",
       "      <th>12</th>\n",
       "      <td>2017-10-08 19:02:11</td>\n",
       "      <td>2017-10-08</td>\n",
       "      <td>19:02:11</td>\n",
       "      <td>[19, 02, 11]</td>\n",
       "      <td>-73.977620</td>\n",
       "      <td>40.680436</td>\n",
       "      <td>6</td>\n",
       "      <td>0</td>\n",
       "    </tr>\n",
       "    <tr>\n",
       "      <th>13</th>\n",
       "      <td>2017-10-08 18:59:25</td>\n",
       "      <td>2017-10-08</td>\n",
       "      <td>18:59:25</td>\n",
       "      <td>[18, 59, 25]</td>\n",
       "      <td>-73.978562</td>\n",
       "      <td>40.679281</td>\n",
       "      <td>6</td>\n",
       "      <td>0</td>\n",
       "    </tr>\n",
       "  </tbody>\n",
       "</table>\n",
       "</div>"
      ],
      "text/plain": [
       "                   date       date2      time         time1        lon  \\\n",
       "9   2017-10-08 19:07:27  2017-10-08  19:07:27  [19, 07, 27] -73.977666   \n",
       "10  2017-10-08 19:04:32  2017-10-08  19:04:32  [19, 04, 32] -73.977551   \n",
       "11  2017-10-08 19:02:14  2017-10-08  19:02:14  [19, 02, 14] -73.977706   \n",
       "12  2017-10-08 19:02:11  2017-10-08  19:02:11  [19, 02, 11] -73.977620   \n",
       "13  2017-10-08 18:59:25  2017-10-08  18:59:25  [18, 59, 25] -73.978562   \n",
       "\n",
       "          lat  weekday workday  \n",
       "9   40.680490        6       0  \n",
       "10  40.680388        6       0  \n",
       "11  40.680469        6       0  \n",
       "12  40.680436        6       0  \n",
       "13  40.679281        6       0  "
      ]
     },
     "execution_count": 33,
     "metadata": {},
     "output_type": "execute_result"
    }
   ],
   "source": [
    "df1[df1['weekday']==6].head()"
   ]
  },
  {
   "cell_type": "code",
   "execution_count": 34,
   "metadata": {},
   "outputs": [
    {
     "data": {
      "text/html": [
       "<div>\n",
       "<style>\n",
       "    .dataframe thead tr:only-child th {\n",
       "        text-align: right;\n",
       "    }\n",
       "\n",
       "    .dataframe thead th {\n",
       "        text-align: left;\n",
       "    }\n",
       "\n",
       "    .dataframe tbody tr th {\n",
       "        vertical-align: top;\n",
       "    }\n",
       "</style>\n",
       "<table border=\"1\" class=\"dataframe\">\n",
       "  <thead>\n",
       "    <tr style=\"text-align: right;\">\n",
       "      <th></th>\n",
       "      <th>point</th>\n",
       "      <th>date</th>\n",
       "      <th>workday</th>\n",
       "      <th>weekday</th>\n",
       "    </tr>\n",
       "  </thead>\n",
       "  <tbody>\n",
       "    <tr>\n",
       "      <th>0</th>\n",
       "      <td>POINT (-73.99416890000001 40.7291516)</td>\n",
       "      <td>2017-10-09 09:28:39</td>\n",
       "      <td>1</td>\n",
       "      <td>0</td>\n",
       "    </tr>\n",
       "    <tr>\n",
       "      <th>1</th>\n",
       "      <td>POINT (-73.9938648 40.7291716)</td>\n",
       "      <td>2017-10-09 09:26:35</td>\n",
       "      <td>1</td>\n",
       "      <td>0</td>\n",
       "    </tr>\n",
       "  </tbody>\n",
       "</table>\n",
       "</div>"
      ],
      "text/plain": [
       "                                   point                 date workday  weekday\n",
       "0  POINT (-73.99416890000001 40.7291516)  2017-10-09 09:28:39       1        0\n",
       "1         POINT (-73.9938648 40.7291716)  2017-10-09 09:26:35       1        0"
      ]
     },
     "execution_count": 34,
     "metadata": {},
     "output_type": "execute_result"
    }
   ],
   "source": [
    "#create another dataframe with points insted of lat lon, for carto\n",
    "\n",
    "df2 = pd.DataFrame(list_p, columns=[\"point\"])\n",
    "df2['date'] = df1['date']\n",
    "df2['workday'] = df1['workday']\n",
    "df2['weekday'] = df1['weekday']\n",
    "df2.head(2)"
   ]
  },
  {
   "cell_type": "markdown",
   "metadata": {},
   "source": [
    "## export to CSV"
   ]
  },
  {
   "cell_type": "markdown",
   "metadata": {},
   "source": [
    "export DF to csv"
   ]
  },
  {
   "cell_type": "code",
   "execution_count": 35,
   "metadata": {
    "collapsed": true
   },
   "outputs": [],
   "source": [
    "#export the df\n",
    "df1.to_csv('google_t_avigail.csv')\n",
    "df2.to_csv('google_t_avigail1.csv')"
   ]
  },
  {
   "cell_type": "code",
   "execution_count": 36,
   "metadata": {},
   "outputs": [
    {
     "data": {
      "text/plain": [
       "'Mon, 27 Nov 2017 19:43:15 +0000'"
      ]
     },
     "execution_count": 36,
     "metadata": {},
     "output_type": "execute_result"
    }
   ],
   "source": [
    "strftime(\"%a, %d %b %Y %H:%M:%S +0000\",gmtime())"
   ]
  },
  {
   "cell_type": "markdown",
   "metadata": {},
   "source": [
    "create new geo data frame to export to CARTO: "
   ]
  },
  {
   "cell_type": "code",
   "execution_count": 37,
   "metadata": {
    "collapsed": true
   },
   "outputs": [],
   "source": [
    "dfgeo = GeoDataFrame(df, crs=crs)"
   ]
  },
  {
   "cell_type": "code",
   "execution_count": 38,
   "metadata": {
    "collapsed": true
   },
   "outputs": [],
   "source": [
    "#add columns to make it intresting!\n",
    "dfgeo['date'] = df1['date']\n",
    "dfgeo['workday'] = df1['workday']\n",
    "dfgeo['weekday'] = df1['weekday']"
   ]
  },
  {
   "cell_type": "code",
   "execution_count": 39,
   "metadata": {
    "collapsed": true
   },
   "outputs": [],
   "source": [
    "# export the geo for carto carto \n",
    "dfgeo.to_csv('google_t_geodf.csv')"
   ]
  },
  {
   "cell_type": "code",
   "execution_count": 40,
   "metadata": {},
   "outputs": [
    {
     "data": {
      "text/plain": [
       "50    0\n",
       "51    0\n",
       "52    0\n",
       "53    0\n",
       "54    0\n",
       "Name: workday, dtype: object"
      ]
     },
     "execution_count": 40,
     "metadata": {},
     "output_type": "execute_result"
    }
   ],
   "source": [
    "dfgeo['workday'][50:55]"
   ]
  },
  {
   "cell_type": "markdown",
   "metadata": {},
   "source": [
    "NTA's"
   ]
  },
  {
   "cell_type": "markdown",
   "metadata": {
    "collapsed": true
   },
   "source": [
    "#adding the NTA's geojson\n",
    "map_DCP = []\n",
    "with open('Neighborhood Tabulation Areas.geojson', 'r') as f:\n",
    "    map_DCP = json.load(f)"
   ]
  },
  {
   "cell_type": "markdown",
   "metadata": {
    "collapsed": true
   },
   "source": [
    "\n",
    "fig = plt.figure(figsize=(26,20))\n",
    "plt.xlim(-74.5,-73.65)\n",
    "plt.ylim(40.5,40.95)\n",
    "for a in range (len(map_DCP['features'])):\n",
    "    coords = map_DCP['features'][a]['geometry']['coordinates'][0]\n",
    "    x = [i for i,j in coords[0]]\n",
    "    y = [j for i,j in coords[0]]\n",
    "    ax = fig.gca() \n",
    "    ax.plot(x,y, c='black', lw=2)\n",
    "geo_df.plot(ax=ax,c='k',marker='.')"
   ]
  },
  {
   "cell_type": "code",
   "execution_count": 46,
   "metadata": {
    "collapsed": true
   },
   "outputs": [],
   "source": [
    "from geopy.distance import vincenty"
   ]
  },
  {
   "cell_type": "markdown",
   "metadata": {},
   "source": [
    "# distance measurment"
   ]
  },
  {
   "cell_type": "code",
   "execution_count": 47,
   "metadata": {},
   "outputs": [
    {
     "name": "stdout",
     "output_type": "stream",
     "text": [
      "1 0.141346338973\n",
      "2 0.14131136798\n"
     ]
    }
   ],
   "source": [
    "#testing the distance measurmant first\n",
    "\n",
    "point1 = (df1.lon[1], df1.lat[1])\n",
    "point2 = (df1.lon[2], df1.lat[2])\n",
    "print\"1\",(vincenty(point1, point2).miles) \n",
    "\n",
    "point3 = (-73.993865, 40.729172)\n",
    "point4 = (-73.995774, 40.726589)\n",
    "print\"2\",(vincenty(point3, point4).miles) \n",
    "#It works!\n",
    "#the small diffrence b/w both measurments is due to decimels "
   ]
  },
  {
   "cell_type": "code",
   "execution_count": 48,
   "metadata": {},
   "outputs": [
    {
     "data": {
      "text/html": [
       "<div>\n",
       "<style>\n",
       "    .dataframe thead tr:only-child th {\n",
       "        text-align: right;\n",
       "    }\n",
       "\n",
       "    .dataframe thead th {\n",
       "        text-align: left;\n",
       "    }\n",
       "\n",
       "    .dataframe tbody tr th {\n",
       "        vertical-align: top;\n",
       "    }\n",
       "</style>\n",
       "<table border=\"1\" class=\"dataframe\">\n",
       "  <thead>\n",
       "    <tr style=\"text-align: right;\">\n",
       "      <th></th>\n",
       "      <th>date</th>\n",
       "      <th>date2</th>\n",
       "      <th>time</th>\n",
       "      <th>time1</th>\n",
       "      <th>lon</th>\n",
       "      <th>lat</th>\n",
       "      <th>weekday</th>\n",
       "      <th>workday</th>\n",
       "    </tr>\n",
       "  </thead>\n",
       "  <tbody>\n",
       "    <tr>\n",
       "      <th>0</th>\n",
       "      <td>2017-10-09 09:28:39</td>\n",
       "      <td>2017-10-09</td>\n",
       "      <td>09:28:39</td>\n",
       "      <td>[09, 28, 39]</td>\n",
       "      <td>-73.994169</td>\n",
       "      <td>40.729152</td>\n",
       "      <td>0</td>\n",
       "      <td>1</td>\n",
       "    </tr>\n",
       "    <tr>\n",
       "      <th>1</th>\n",
       "      <td>2017-10-09 09:26:35</td>\n",
       "      <td>2017-10-09</td>\n",
       "      <td>09:26:35</td>\n",
       "      <td>[09, 26, 35]</td>\n",
       "      <td>-73.993865</td>\n",
       "      <td>40.729172</td>\n",
       "      <td>0</td>\n",
       "      <td>1</td>\n",
       "    </tr>\n",
       "    <tr>\n",
       "      <th>2</th>\n",
       "      <td>2017-10-09 09:24:11</td>\n",
       "      <td>2017-10-09</td>\n",
       "      <td>09:24:11</td>\n",
       "      <td>[09, 24, 11]</td>\n",
       "      <td>-73.995774</td>\n",
       "      <td>40.726589</td>\n",
       "      <td>0</td>\n",
       "      <td>1</td>\n",
       "    </tr>\n",
       "  </tbody>\n",
       "</table>\n",
       "</div>"
      ],
      "text/plain": [
       "                  date       date2      time         time1        lon  \\\n",
       "0  2017-10-09 09:28:39  2017-10-09  09:28:39  [09, 28, 39] -73.994169   \n",
       "1  2017-10-09 09:26:35  2017-10-09  09:26:35  [09, 26, 35] -73.993865   \n",
       "2  2017-10-09 09:24:11  2017-10-09  09:24:11  [09, 24, 11] -73.995774   \n",
       "\n",
       "         lat  weekday workday  \n",
       "0  40.729152        0       1  \n",
       "1  40.729172        0       1  \n",
       "2  40.726589        0       1  "
      ]
     },
     "execution_count": 48,
     "metadata": {},
     "output_type": "execute_result"
    }
   ],
   "source": [
    "df1.head(3)"
   ]
  },
  {
   "cell_type": "code",
   "execution_count": 51,
   "metadata": {},
   "outputs": [
    {
     "data": {
      "text/plain": [
       "[0,\n",
       " 0.02109283968750707,\n",
       " 0.14134633897289162,\n",
       " 0.10723559460102039,\n",
       " 0.6160903808588986,\n",
       " 0.3132520996397803,\n",
       " 0.6441905223216806,\n",
       " 0.044714473946829515,\n",
       " 0.05898800517796434,\n",
       " 0.005675310070109016,\n",
       " 0.00821236936441932,\n",
       " 0.01089383950637216,\n",
       " 0.006024677432180937,\n",
       " 0.06902208291050033,\n",
       " 0.0007670784992394444,\n",
       " 0.0005482530789916513,\n",
       " 0.003080514392113913,\n",
       " 0.09674568953869464,\n",
       " 0.007604264984632094,\n",
       " 0.005955296023706218,\n",
       " 0.02144346276042774,\n",
       " 0.055549765507498156,\n",
       " 0.08203633284560546,\n",
       " 0.14910629165778505,\n",
       " 0.04397741346339103,\n",
       " 0.05271980953365733,\n",
       " 0.021156431208130343,\n",
       " 0.008089936221497672,\n",
       " 0.2077083580084136,\n",
       " 0.05797723755212852,\n",
       " 0.05352260077771626,\n",
       " 0.14784863090936134,\n",
       " 0.048852359420783996,\n",
       " 0.06713216946399374,\n",
       " 0.012335742221791379,\n",
       " 0.00400161248915538,\n",
       " 0.19613484763481168,\n",
       " 0.0064594876020937384,\n",
       " 0.012567399793936156,\n",
       " 0.1869589661044836,\n",
       " 0.03171187761378758,\n",
       " 0.039149211660114674,\n",
       " 0.0013010989239910877,\n",
       " 0.001730324175753079,\n",
       " 0.05604475355462559,\n",
       " 0.09882287057175276,\n",
       " 0.0076876827841332995,\n",
       " 0.04749469517802085,\n",
       " 0.0022456957912949473,\n",
       " 0.002087114732357312,\n",
       " 0.18344156860846544,\n",
       " 0.06670596564527302,\n",
       " 0.06746361708992485,\n",
       " 0.007105045085406064,\n",
       " 0.041528731611821246,\n",
       " 0.0016773945015958385,\n",
       " 0.0541890712318053,\n",
       " 0.05384982266025715,\n",
       " 0.05951404027328076,\n",
       " 0.05892199587120321,\n",
       " 0.006946231040702009,\n",
       " 0.05124549952274838,\n",
       " 0.013428780914591178,\n",
       " 0.014012616942769776,\n",
       " 0.2117021217388201,\n",
       " 0.05014363655349552,\n",
       " 0.09321576557480081,\n",
       " 0.03784452609902644,\n",
       " 0.022743422747841247,\n",
       " 0.004754302726146108,\n",
       " 0.012083944319458148,\n",
       " 0.013669521138081788,\n",
       " 0.010468016960043318,\n",
       " 0.008671872525160173,\n",
       " 0.002188781202922684,\n",
       " 0.009989713288281073,\n",
       " 0.005385971907866964,\n",
       " 0.019713798873354005,\n",
       " 0.0420177083683637,\n",
       " 0.1531917538629499,\n",
       " 0.06935829011770869,\n",
       " 0.21401852969774984,\n",
       " 0.06603899194637781,\n",
       " 0.016369410562132466,\n",
       " 0.007955998206704047,\n",
       " 0.0011703605799970442,\n",
       " 0.07594528522618346,\n",
       " 0.00811631372185321,\n",
       " 0.01934300949112161,\n",
       " 0.0250272407943527,\n",
       " 0.046831139457991645,\n",
       " 0.008068488488042884,\n",
       " 0.01855998449933897,\n",
       " 0.12929166203463316,\n",
       " 0.05472605770768655,\n",
       " 0.03261128484493108,\n",
       " 0.11879089953912879,\n",
       " 0.07449589020505915,\n",
       " 0.0638727565873471,\n",
       " 0.13300077731735785,\n",
       " 0.3100873861307593,\n",
       " 0.1627538560622379,\n",
       " 0.27416498234016967,\n",
       " 0.013336539100244463,\n",
       " 0.10910673237723756,\n",
       " 0.003595710682975158,\n",
       " 0.0601506078031959,\n",
       " 0.0585799957027666,\n",
       " 0.14308801257653203,\n",
       " 0.1618432947372613,\n",
       " 0.15957292285311364,\n",
       " 0.14661454192142745,\n",
       " 0.25667652881315517,\n",
       " 0.4461273559486573,\n",
       " 0.007733332384954636,\n",
       " 0.10727456386218508,\n",
       " 0.002696184389172058,\n",
       " 0.004298402440389152,\n",
       " 0.10878304408610194,\n",
       " 0.11574255876184775,\n",
       " 0.004221644483765784,\n",
       " 0.021480748997540683,\n",
       " 0.00745267415312705,\n",
       " 0.029355869334370534,\n",
       " 0.002888679292800473,\n",
       " 0.06656474129722666,\n",
       " 0.0033611052789207863,\n",
       " 0.0007739501111663076,\n",
       " 0.008661638021533885,\n",
       " 0.06165194933181943,\n",
       " 0.0072253573005447245,\n",
       " 0.008669908841789373,\n",
       " 0.002069027987762884,\n",
       " 0.00935352125241369,\n",
       " 0.008595194877006412,\n",
       " 0.10196620550495876,\n",
       " 0.01495759754826063,\n",
       " 0.7891644093033373,\n",
       " 0.6276999258974931,\n",
       " 0.7931705622105725,\n",
       " 0.03828905185115439,\n",
       " 0.016841648241123094,\n",
       " 0.12394744377767801,\n",
       " 0.10667076202085655,\n",
       " 0.18487425305892483,\n",
       " 0.11061277359254386,\n",
       " 0.12935774785048465,\n",
       " 0.23709403564441506,\n",
       " 0.03930314553643471,\n",
       " 0.05526507401190069,\n",
       " 0.060393897228645764,\n",
       " 0.009342073029447019,\n",
       " 0.1329527122909206,\n",
       " 0.12187421572456893,\n",
       " 0.11724870952988409,\n",
       " 0.10349550980705413,\n",
       " 0.09501195130181954,\n",
       " 0.1045044768682854,\n",
       " 0.15036961122876116,\n",
       " 0.05569541864909438,\n",
       " 0.23996579658473055,\n",
       " 0.2218754121519928,\n",
       " 0.4055781295332283,\n",
       " 0.6403195447702363,\n",
       " 0.13490784070513434,\n",
       " 0.09478687296399271,\n",
       " 0.014972808969182341,\n",
       " 0.017956135960874108,\n",
       " 0.011828136952879802,\n",
       " 0.008556862734951867,\n",
       " 0.5131868083661518,\n",
       " 0.6102848643678399,\n",
       " 0.3925725590036038,\n",
       " 0.02019795395378112,\n",
       " 0.0646547054387791,\n",
       " 0.09725234156812981,\n",
       " 0.0015865137684748314,\n",
       " 0.0028689923191991666,\n",
       " 0.039030752822974434,\n",
       " 0.08543863202236349,\n",
       " 0.09503990715372292,\n",
       " 0.3818850900582072,\n",
       " 0.45128652741303155,\n",
       " 0.8154399712495654,\n",
       " 0.04975067418963492,\n",
       " 0.0576111699850448,\n",
       " 0.012977957502007167,\n",
       " 0.010204303674045543,\n",
       " 0.0023034295642195405,\n",
       " 0.03790601082652098,\n",
       " 0.12257251264371914,\n",
       " 1.364659630214676,\n",
       " 0.6722138372217927,\n",
       " 0.5552935426131278,\n",
       " 0.08898602083960108,\n",
       " 0.01609648833761823,\n",
       " 0.04381584546457898,\n",
       " 0.05218524279501623,\n",
       " 0.025531691456572886,\n",
       " 0.01448190027503955,\n",
       " 0.2506977647281602,\n",
       " 0.039089838994269974,\n",
       " 0.04122496660498363,\n",
       " 0.12930201027211063,\n",
       " 0.16673077886858423,\n",
       " 0.016612978027816618,\n",
       " 0.015501802327486656,\n",
       " 0.02495276322450397,\n",
       " 0.002292004564313461,\n",
       " 0.0032069597496798387,\n",
       " 0.0013132442989809224,\n",
       " 0.03347754738985543,\n",
       " 0.07582585364176331,\n",
       " 0.10180363007413852,\n",
       " 0.04640237416440588,\n",
       " 0.055153607817594215,\n",
       " 0.03983720882945974,\n",
       " 0.11341185680581757,\n",
       " 0.00022925252870673038,\n",
       " 0.00022925252869193877,\n",
       " 0.086209510724268,\n",
       " 0.021119026124479925,\n",
       " 0.16351272587559648,\n",
       " 0.7488798805790747,\n",
       " 0.8359435286439776,\n",
       " 0.012934694035711665,\n",
       " 0.0037261891973692346,\n",
       " 0.09608876807994737,\n",
       " 0.030541517320079547,\n",
       " 0.030541517319938902,\n",
       " 0.011234667453643921,\n",
       " 0.11226638722552405,\n",
       " 0.03762026435690365,\n",
       " 0.9168535910073131,\n",
       " 0.5202271548528229,\n",
       " 0.025979025026678808,\n",
       " 0.082941985694752,\n",
       " 0.07408436086158582,\n",
       " 0.022333174667061497,\n",
       " 0.02138992785104552,\n",
       " 0.03296643145436796,\n",
       " 0.042774632271013954,\n",
       " 0.02435487770508076,\n",
       " 0.026890113302403228,\n",
       " 0.008213091885368203,\n",
       " 0.006019201212618019,\n",
       " 0.20404789776040916,\n",
       " 2.6912514633413966,\n",
       " 2.6878990466387034,\n",
       " 0.05423513075565151,\n",
       " 0.3983416875431268,\n",
       " 0.057507398211980684,\n",
       " 0.08779905389235478,\n",
       " 0.009251426464700216,\n",
       " 0.15105690890937,\n",
       " 0.056625193347323764,\n",
       " 0.1072059075558793,\n",
       " 0.047751290558334394,\n",
       " 0.06853432028416535,\n",
       " 0.0013703226755294564,\n",
       " 0.0009928807635981457,\n",
       " 0.22133578624396347,\n",
       " 0.39011948124967455,\n",
       " 0.8595702975200074,\n",
       " 1.1442562673324561,\n",
       " 0.8049607547365693,\n",
       " 0.012665916399773876,\n",
       " 0.0023542585742252725,\n",
       " 0.006143801253121986,\n",
       " 0.0038370935316256634,\n",
       " 0.2225927453779573,\n",
       " 0.7323391691475978,\n",
       " 0.5750845236506198,\n",
       " 0.023735740593018154,\n",
       " 0.0655773172741482,\n",
       " 0.0010203667060608396,\n",
       " 0.04427249601131078,\n",
       " 0.16363376059302914,\n",
       " 0.034373998293908956,\n",
       " 0.036809500167206674,\n",
       " 0.054693304778981065,\n",
       " 0.1651522301690078,\n",
       " 0.12034359370378254,\n",
       " 0.00467754289679481,\n",
       " 0.0081417033975991,\n",
       " 0.00042032555751948044,\n",
       " 0.04446740548192696,\n",
       " 0.015296862761255501,\n",
       " 0.018647740277478408,\n",
       " 0.0006079209543321897,\n",
       " 0.0015917275220901062,\n",
       " 0.03897801176195706,\n",
       " 0.7996960643543047,\n",
       " 0.6695023072429452,\n",
       " 0.003443352881087116,\n",
       " 0.008349900674268728,\n",
       " 0.011768965808729315,\n",
       " 0.07960180633820577,\n",
       " 0.06463994241843109,\n",
       " 0.09245693459305054,\n",
       " 0.8395845964324548,\n",
       " 0.40769417448767564,\n",
       " 0.32023570150920144,\n",
       " 0.8429788997672324,\n",
       " 1.0946867597453904,\n",
       " 0.09037441663661451,\n",
       " 0.050621339685311476,\n",
       " 0.039738031059176546,\n",
       " 0.04813877595084891,\n",
       " 0.11636626087549565,\n",
       " 0.07761972421467005,\n",
       " 0.0885846430876111,\n",
       " 0.03979808852750006,\n",
       " 0.024961442336665633,\n",
       " 0.03721374107048472,\n",
       " 0.07438165689054725,\n",
       " 0.016467105766207354,\n",
       " 0.12904070181673566,\n",
       " 0.04322254613862683,\n",
       " 0.09019831098735173,\n",
       " 0.08096642764008795,\n",
       " 0.05961323252739855,\n",
       " 0.04181515086629367,\n",
       " 0.08642163083309524,\n",
       " 0.07758421253476337,\n",
       " 0.09120884234363266,\n",
       " 0.08666214183065783,\n",
       " 0.047012850194247426,\n",
       " 0.044452106615097055,\n",
       " 0.06823393680894971,\n",
       " 0.05374009524867175,\n",
       " 0.07150196776404412,\n",
       " 0.08869227940195896,\n",
       " 0.1422243625943007,\n",
       " 0.03867137695103587,\n",
       " 0.049947615599953546,\n",
       " 0.16204190585544573,\n",
       " 0.033138186427464016,\n",
       " 0.08708153398487099,\n",
       " 0.07345651947500628,\n",
       " 0.061141222318234656,\n",
       " 0.06498538185040574,\n",
       " 0.053331207577915526,\n",
       " 0.05945274823747738,\n",
       " 0.08278766402683053,\n",
       " 0.03070459923137987,\n",
       " 0.0411919870885563,\n",
       " 0.11828263801438539,\n",
       " 0.20596666014531453,\n",
       " 0.0388744730618743,\n",
       " 0.007725433611758201,\n",
       " 0.011799892894757927,\n",
       " 0.07116031030582652,\n",
       " 0.055334005851075736,\n",
       " 0.14136220830378718,\n",
       " 0.07355894950118262,\n",
       " 0.0432826337082704,\n",
       " 0.11938755224310614,\n",
       " 0.08668689351091781,\n",
       " 0.03114528442558487,\n",
       " 0.06823422345171397,\n",
       " 0.0059749261113162255,\n",
       " 0.010360440449290412,\n",
       " 0.051984367434714095,\n",
       " 0.06256216885552877,\n",
       " 0.12001511527582105,\n",
       " 0.1910924279323738,\n",
       " 0.12926790775952432,\n",
       " 0.44076841756679364,\n",
       " 0.8228647888954079,\n",
       " 0.031066556149273835,\n",
       " 0.00038056932032582764,\n",
       " 0.0017074680253789361,\n",
       " 0.003957345265490148,\n",
       " 0.017172517241182263,\n",
       " 0.3959660493154,\n",
       " 0.13888694623537284,\n",
       " 0.04490980760703648,\n",
       " 0.20929425991536368,\n",
       " 0.4328902778805239,\n",
       " 1.5119078284027916,\n",
       " 0.605307470410879,\n",
       " 0.1957292540046616,\n",
       " 0.2256246436955765,\n",
       " 0.003088905092938646,\n",
       " 0.0033005672890014976,\n",
       " 0.008016975036320416,\n",
       " 0.004383959529341217,\n",
       " 0.2817311064103375,\n",
       " 0.2558086743871277,\n",
       " 0.1229043915615797,\n",
       " 0.40186432043880205,\n",
       " 0.3179331259877892,\n",
       " 0.1601561214590357,\n",
       " 0.048301855801459126,\n",
       " 0.15455159673477328,\n",
       " 0.2905949858565707,\n",
       " 0.20170055860867012,\n",
       " 0.35117605676190666,\n",
       " 0.07619052945630549,\n",
       " 0.11754873011966041,\n",
       " 0.08481844967279205,\n",
       " 0.0664466073011665,\n",
       " 0.2940286318685921,\n",
       " 0.3176485127265538,\n",
       " 0.052097054815181225,\n",
       " 0.06685037092478488,\n",
       " 0.049392145140042844,\n",
       " 0.0085065594701105,\n",
       " 0.12127534406474719,\n",
       " 0.10429659341606227,\n",
       " 0.036306788128706656,\n",
       " 0.011941206413712184,\n",
       " 0.04971773474010567,\n",
       " 0.10535488621737567,\n",
       " 0.001770341633091373,\n",
       " 0.0001793656546229163,\n",
       " 0.04878592282708144,\n",
       " 0.09511714475311328,\n",
       " 0.011034701445593015,\n",
       " 0.02149402838006405,\n",
       " 0.021268384207827628,\n",
       " 0.15748762677721373,\n",
       " 0.06140460883025918,\n",
       " 0.08602876302136012,\n",
       " 0.010903242708495181,\n",
       " 0.01767811871593069,\n",
       " 0.0999968660865618,\n",
       " 0.06871266160879118,\n",
       " 0.00578322033756038,\n",
       " 0.008739972743486882,\n",
       " 0.03761376575606098,\n",
       " 0.020932305570789587,\n",
       " 0.11796548739799836,\n",
       " 0.0340888263191348,\n",
       " 0.4063795719208617,\n",
       " 0.456910073189143,\n",
       " 0.4133288032840875,\n",
       " 0.19545119868711813,\n",
       " 0.058200766840633335,\n",
       " 0.1686775660074278,\n",
       " 0.13216497640516447,\n",
       " 0.15553337085508262,\n",
       " 0.14755300588110487,\n",
       " 0.02946024191332593,\n",
       " 0.0028668841999775242,\n",
       " 0.005804612446150872,\n",
       " 0.020238194378302155,\n",
       " 0.011207012119352242,\n",
       " 0.06149831706939838,\n",
       " 0.05807840194342948,\n",
       " 0.09883795683835415,\n",
       " 0.182164037877227,\n",
       " 0.16727880045998106,\n",
       " 0.14301537209406498,\n",
       " 0.1015580840511592,\n",
       " 0.03532020906863163,\n",
       " 0.09914258227993207,\n",
       " 0.17812014730445638,\n",
       " 0.05818870402945202,\n",
       " 0.0282330750959148,\n",
       " 0.009943877293996694,\n",
       " 0.04917019736043494,\n",
       " 0.03756392423633997,\n",
       " 0.17145606243233422,\n",
       " 0.15330667318764704,\n",
       " 0.1581838019754694,\n",
       " 0.3667299889366785,\n",
       " 0.58482882517139,\n",
       " 0.6499825415152928,\n",
       " 0.48083076128742847,\n",
       " 0.8615627628835034,\n",
       " 0.08075862768560262,\n",
       " 0.17514558651465426,\n",
       " 0.002232000072351242,\n",
       " 0.001642731517196308,\n",
       " 0.0013205958941661217,\n",
       " 0.015278594570328936,\n",
       " 0.013190476571598622,\n",
       " 0.07109554691433186,\n",
       " 0.005003880036659426,\n",
       " 0.0050038800367142545,\n",
       " 0.07021932982126045,\n",
       " 0.003313018920416053,\n",
       " 0.008579613193731257,\n",
       " 0.005887495960969715,\n",
       " 0.32085435793907396,\n",
       " 0.05649701997888061,\n",
       " 0.03871110178610723,\n",
       " 0.044379943296703535,\n",
       " 0.039627987673149984,\n",
       " 0.08157849142563095,\n",
       " 0.0020680762842758436,\n",
       " 0.0004057868635930593,\n",
       " 0.24499282373220987,\n",
       " 0.001288884335500669,\n",
       " 0.030710078240387715,\n",
       " 0.03097609839581729,\n",
       " 0.035101978185350644,\n",
       " 0.0575225817781272,\n",
       " 0.17204130233765583,\n",
       " 0.2738164617640718,\n",
       " 0.24686264728731266,\n",
       " 0.09575447282174525,\n",
       " 0.008473108595841446,\n",
       " 0.0028098756257499166,\n",
       " 0.003797374993754232,\n",
       " 0.1847750098988897,\n",
       " 0.011688061921894873,\n",
       " 0.01705446626078884,\n",
       " 0.0046289937982225485,\n",
       " 0.05566887821218899,\n",
       " 0.3925596992263575,\n",
       " 1.292813505067228,\n",
       " 0.37489989549295655,\n",
       " 0.09336841643911249,\n",
       " 0.19350646713237685,\n",
       " 0.0025858235915976646,\n",
       " 0.057669648016450345,\n",
       " 0.05742377845845503,\n",
       " 0.19729476514893163,\n",
       " 0.15718506132001944,\n",
       " 0.016302791485561862,\n",
       " 0.06717611003509882,\n",
       " 0.07527237684201567,\n",
       " 0.0790184113413451,\n",
       " 0.15445211703829947,\n",
       " 0.18161455465216916,\n",
       " 0.2840224222965805,\n",
       " 0.0030518608359803596,\n",
       " 0.005376169327239518,\n",
       " 0.07038117066591694,\n",
       " 0.05956182325724859,\n",
       " 0.09360344637959092,\n",
       " 0.05629350168757589,\n",
       " 0.0,\n",
       " 0.10200922681437465,\n",
       " 0.2614170455164685,\n",
       " 0.20788189515605546,\n",
       " 0.5487390207617404,\n",
       " 0.7653776066317016,\n",
       " 0.08404365239399329,\n",
       " 0.0012274950746862694,\n",
       " 0.0007548839276791669,\n",
       " 0.007598712291540501,\n",
       " 0.06419039936152013,\n",
       " 0.049855776304604124,\n",
       " 0.040888268069352765,\n",
       " 0.06665670189122884,\n",
       " 0.03704459044702136,\n",
       " 0.050562770004885814,\n",
       " 0.04160106244842879,\n",
       " 0.7213958564722006,\n",
       " 1.1786003081351373,\n",
       " 1.028056313952677,\n",
       " 0.13776723273090233,\n",
       " 0.07413626286528772,\n",
       " 0.08248286383956306,\n",
       " 0.09306411647448334,\n",
       " 0.04008511285493841,\n",
       " 0.1140431202739785,\n",
       " 0.1446941195651679,\n",
       " 0.09504438528527254,\n",
       " 0.0493787776474368,\n",
       " 0.056241908651354866,\n",
       " 0.12530968456972105,\n",
       " 0.12921340025284261,\n",
       " 0.21142546960222194,\n",
       " 0.048622339547233405,\n",
       " 0.1415717375399935,\n",
       " 0.1352326489410541,\n",
       " 0.0028527317485180564,\n",
       " 0.009600525836563645,\n",
       " 0.15908969344860546,\n",
       " 0.062159156751633075,\n",
       " 0.0998473796390079,\n",
       " 0.0927453133914491,\n",
       " 0.049995063258411306,\n",
       " 0.0524710039733675,\n",
       " 0.1103182479973668,\n",
       " 0.1910463262048805,\n",
       " 0.014814737908876462,\n",
       " 0.016404693766028742,\n",
       " 0.0825778678009202,\n",
       " 0.07310667991983506,\n",
       " 0.11751600418992783,\n",
       " 0.025656764758341628,\n",
       " 0.12473432280994608,\n",
       " 0.0,\n",
       " 0.09785714727077963,\n",
       " 0.2015872009794374,\n",
       " 0.3329131772036244,\n",
       " 0.47498794324849497,\n",
       " 0.7811947177101595,\n",
       " 0.06071660838847086,\n",
       " 0.03805467596203299,\n",
       " 0.007048598143039771,\n",
       " 0.007048598142966677,\n",
       " 0.05895916393608474,\n",
       " 0.03283769072523371,\n",
       " 0.07187696428538619,\n",
       " 0.029117067706394203,\n",
       " 0.48846228392994184,\n",
       " 1.0370261466575044,\n",
       " 0.1616472064102162,\n",
       " 0.2897308376674048,\n",
       " 0.019700089607774987,\n",
       " 0.11225524542907181,\n",
       " 0.23191286322833393,\n",
       " 0.08252867028169363,\n",
       " 0.09908616868469933,\n",
       " 0.026750603296204895,\n",
       " 0.027983619761453644,\n",
       " 0.0024000645065675843,\n",
       " 0.0012683399173928137,\n",
       " 0.029536600547729584,\n",
       " 0.010870338227665012,\n",
       " 0.11233028124669715,\n",
       " 0.07393421711771045,\n",
       " 0.09005577407405571,\n",
       " 0.3208035693983789,\n",
       " 0.4697283490569838,\n",
       " 0.8038500159767995,\n",
       " 0.09094512728176912,\n",
       " 0.0011702217921957215,\n",
       " 0.003963226294122149,\n",
       " 0.04865891494398779,\n",
       " 0.030631342281062107,\n",
       " 0.1302426563735143,\n",
       " 0.020475268153271078,\n",
       " 0.011007713858229868,\n",
       " 0.006083737387097065,\n",
       " 0.003922234417048535,\n",
       " 0.12676397217519228,\n",
       " 0.04136439096557422,\n",
       " 0.05180445879807227,\n",
       " 0.005413980123515438,\n",
       " 0.014775684894662931,\n",
       " 0.08535796383965492,\n",
       " 0.041982634262458365,\n",
       " 1.3425699557495858,\n",
       " 0.2270262128836051,\n",
       " 0.8181123898086656,\n",
       " 0.5911020682783066,\n",
       " 0.2270262128836051,\n",
       " 0.046429284160516046,\n",
       " 0.09004543751067805,\n",
       " 0.11395748993545361,\n",
       " 0.17324493689235063,\n",
       " 0.00984496434460737,\n",
       " 0.0027539677257371106,\n",
       " 0.038834723123148916,\n",
       " 0.0669813586993553,\n",
       " 0.0640359610912466,\n",
       " 0.042954301633811885,\n",
       " 0.02143041726060192,\n",
       " 0.08272981689513438,\n",
       " 0.08378128958303489,\n",
       " 0.05224877941732112,\n",
       " 0.06659618103796523,\n",
       " 0.28802623354366386,\n",
       " 0.5105113671802275,\n",
       " 0.8059478952129744,\n",
       " 0.022592226327361218,\n",
       " 0.0882689205472128,\n",
       " 0.005603519896006297,\n",
       " 0.005623209289012206,\n",
       " 0.0046951649096954266,\n",
       " 0.0076630785104015425,\n",
       " 0.0010245017059617467,\n",
       " 0.0008753421570907283,\n",
       " 0.0043903669709315285,\n",
       " 0.0015506336816801813,\n",
       " 0.004428611102779566,\n",
       " 0.07265348588946509,\n",
       " 0.0014657073403174256,\n",
       " 0.010071527918322014,\n",
       " 0.020405851028754054,\n",
       " 0.008896840209759416,\n",
       " 0.07084882611506035,\n",
       " 0.0037111741696188327,\n",
       " 0.005201759403904496,\n",
       " 0.0027213402458185613,\n",
       " 0.019455297493931656,\n",
       " 0.021539969870946113,\n",
       " 0.07620325969560975,\n",
       " 0.038449468855675815,\n",
       " 0.04764574775493874,\n",
       " 0.009775552241461783,\n",
       " 0.16877314816335678,\n",
       " 0.8336961020668552,\n",
       " 1.07529986218934,\n",
       " 1.1090234649701187,\n",
       " 1.6371657030849118,\n",
       " 0.019360226289566056,\n",
       " 0.001997298666661574,\n",
       " 0.01681103266901893,\n",
       " 0.021101815529491516,\n",
       " 0.0037310152194942256,\n",
       " 0.044767585504231454,\n",
       " 1.6492240661394801,\n",
       " 1.428370819428928,\n",
       " 0.30483369683997596,\n",
       " 1.9809124046588173,\n",
       " 0.32564780172375307,\n",
       " 0.4038381350102927,\n",
       " 0.007863019806117873,\n",
       " 0.030279978373107325,\n",
       " 0.020633690440638647,\n",
       " 0.18086688150815822,\n",
       " 0.002564899528002282,\n",
       " 0.0037262550134334674,\n",
       " 0.008066760814365727,\n",
       " 0.0073464186581509135,\n",
       " 0.009212916618788607,\n",
       " 0.0010546618694603402,\n",
       " 0.010764400414941476,\n",
       " 0.19100262397172793,\n",
       " 0.14740945167434863,\n",
       " 0.1885081253111435,\n",
       " 0.06442032640308223,\n",
       " 0.0819943362614942,\n",
       " 0.001979695406238722,\n",
       " 0.010225852780691788,\n",
       " 0.008319912210265455,\n",
       " 0.15557915260335226,\n",
       " 0.14776695588008704,\n",
       " 0.06081551531504376,\n",
       " 0.030868727452194256,\n",
       " 0.04204811334018326,\n",
       " 0.04909635642328295,\n",
       " 0.09028590566252538,\n",
       " 0.14643103823011774,\n",
       " 0.09166474864667003,\n",
       " 0.42124637125358083,\n",
       " 0.39489853546201215,\n",
       " 0.361466346526388,\n",
       " 0.7524560169766253,\n",
       " 0.3535273089714154,\n",
       " 0.18200331600334702,\n",
       " 0.2475860950423945,\n",
       " 0.004321098000095013,\n",
       " 0.0010995128570017942,\n",
       " 0.004015400713551118,\n",
       " 0.17452592993378152,\n",
       " 0.016970740959188917,\n",
       " 0.03459955795251126,\n",
       " 0.07368236206405229,\n",
       " 0.056062564358207834,\n",
       " 0.031085398036053178,\n",
       " 0.20925913253641729,\n",
       " 0.1310325315158484,\n",
       " 0.11488728021215215,\n",
       " 0.11169986953361895,\n",
       " 0.072839367958148,\n",
       " 0.1114684246899131,\n",
       " 0.1673157047316711,\n",
       " 0.18309197355869428,\n",
       " 0.04031120321034815,\n",
       " 0.18675127395691093,\n",
       " 0.1924189913340093,\n",
       " 0.14097482733611066,\n",
       " 0.10486339401547809,\n",
       " 0.12551909975726971,\n",
       " 0.0965065484609639,\n",
       " 0.12684840093360972,\n",
       " 0.1262445066090268,\n",
       " 0.13562167081545787,\n",
       " 0.034008263991086696,\n",
       " 0.13912910737025388,\n",
       " 0.2638072547153583,\n",
       " 0.07733009233501374,\n",
       " 0.12362243781537725,\n",
       " 0.28084000160513467,\n",
       " 0.4073061486225413,\n",
       " 0.1133350918486082,\n",
       " 0.09212963120165565,\n",
       " 0.15074057373096675,\n",
       " 0.023414344636383054,\n",
       " 0.05757682354512442,\n",
       " 0.33895145282386085,\n",
       " 0.3221970215657907,\n",
       " 0.08746716211496984,\n",
       " 0.09404232116284268,\n",
       " 0.0004752105845269453,\n",
       " 0.0007731525602638088,\n",
       " 0.0017894605864695976,\n",
       " 0.009425884306044983,\n",
       " 0.009722548566799098,\n",
       " 0.13213881679835154,\n",
       " 0.01513040651793057,\n",
       " 0.016398234970508987,\n",
       " 0.06641706434403694,\n",
       " 0.06166536437214036,\n",
       " 0.11183158176113092,\n",
       " 0.02613015749044594,\n",
       " 0.033950708655516866,\n",
       " 0.009748471086231388,\n",
       " 0.005161006253471774,\n",
       " 0.03447263185695,\n",
       " 0.0016229029909936453,\n",
       " 0.0009650655083779667,\n",
       " 0.00012940709602471753,\n",
       " 0.07188926900005403,\n",
       " 0.6668493426386934,\n",
       " 0.7399749099306618,\n",
       " 0.2914829238922911,\n",
       " 0.027136549053642725,\n",
       " 0.029839240362467923,\n",
       " 0.1894943147855849,\n",
       " 0.07731024494243796,\n",
       " 0.04163549542362912,\n",
       " 0.0855201018772074,\n",
       " 0.01671981229347515,\n",
       " 0.01906938801468713,\n",
       " 0.038271467110880655,\n",
       " 0.11110396002715445,\n",
       " 0.10500041028674854,\n",
       " 0.028144191455666774,\n",
       " 0.05108148246568427,\n",
       " 0.04028839965973103,\n",
       " 0.1552065171062911,\n",
       " 0.09310141542066873,\n",
       " 0.0715749638915329,\n",
       " 0.12464939350838716,\n",
       " 0.08909050156196582,\n",
       " 0.07477177215914772,\n",
       " 0.19022107675343744,\n",
       " 0.0638981442367199,\n",
       " 0.08078664812911578,\n",
       " 0.0,\n",
       " 0.010628026693517947,\n",
       " 0.0,\n",
       " 0.0,\n",
       " 0.06423155275271088,\n",
       " 0.11073250984120622,\n",
       " 0.08790025809279382,\n",
       " 0.2795094668585404,\n",
       " 0.5223223741731127,\n",
       " 0.7797788263924079,\n",
       " 0.04888044239817915,\n",
       " 0.025304772352264485,\n",
       " 0.0013998009511171949,\n",
       " 0.0013498114680238118,\n",
       " 0.0023261364286734135,\n",
       " 0.004175882173261895,\n",
       " 0.0004101530440235727,\n",
       " 0.0013133875979068623,\n",
       " 0.021368927520987478,\n",
       " 0.019301646991670085,\n",
       " 0.0768579893884987,\n",
       " 0.02100588444481831,\n",
       " 0.03308788365752505,\n",
       " 0.009355609360458603,\n",
       " 0.01850219348146488,\n",
       " 0.08623583902615288,\n",
       " 0.056434133156334054,\n",
       " 0.06974565299748375,\n",
       " 0.07418374986439658,\n",
       " 0.05288333368325327,\n",
       " 0.04739694812256096,\n",
       " 0.06528135201964066,\n",
       " 0.053112953692643905,\n",
       " 0.14745806358820457,\n",
       " 0.1413257175544598,\n",
       " 0.123759669365785,\n",
       " 0.17525554880960156,\n",
       " 0.005975415411044344,\n",
       " 0.015688189283171103,\n",
       " 0.0070381470467134385,\n",
       " 0.1778813516670506,\n",
       " 0.1668174097410436,\n",
       " 0.0713386688785309,\n",
       " 0.09019854473199526,\n",
       " 0.061361256033643036,\n",
       " 0.08643232235657752,\n",
       " 0.19425793684870524,\n",
       " 0.048849619201853524,\n",
       " 0.006978393903249904,\n",
       " 0.001165381898986471,\n",
       " 0.012705901517379018,\n",
       " 0.0045969120644002584,\n",
       " 0.10968325377356478,\n",
       " 0.004763428964141726,\n",
       " 0.004196163569136977,\n",
       " 0.1838512182551884,\n",
       " 0.772496370539023,\n",
       " 0.1683259401604976,\n",
       " 0.3834877466088696,\n",
       " 0.07761261997529534,\n",
       " 0.24698404445493802,\n",
       " 0.10740968500169588,\n",
       " 0.0648712441747817,\n",
       " 0.00031760875660563344,\n",
       " 0.009699778753075414,\n",
       " 0.1491248174443269,\n",
       " 0.05777341840782616,\n",
       " 0.10112129238790954,\n",
       " 0.015917428793734575,\n",
       " 0.03436669881842854,\n",
       " 0.12730671251434145,\n",
       " 0.047306262274203946,\n",
       " 0.06079725471523043,\n",
       " 0.0626605408839155,\n",
       " 0.0027066540188722225,\n",
       " 0.08045993643624351,\n",
       " 0.23189285687868635,\n",
       " 0.2374886182270082,\n",
       " 0.5244134893382599,\n",
       " 0.7726832858147407,\n",
       " 0.04794536597230702,\n",
       " 0.039559278704398404,\n",
       " 0.002021068220985982,\n",
       " 0.03164092753642511,\n",
       " 0.027096517107402702,\n",
       " 0.08179279902279656,\n",
       " 0.020909195071018617,\n",
       " 0.36085498226539064,\n",
       " 1.7406616936214712,\n",
       " 1.7082199552365087,\n",
       " 1.2569223947464774,\n",
       " 5.580000478148906,\n",
       " 0.8973429113860881,\n",
       " 0.29033210421888817,\n",
       " 1.1023635385610844,\n",
       " 0.999387134645101,\n",
       " 1.6241213988558787,\n",
       " 2.517585688466758,\n",
       " 2.8209474748505947,\n",
       " 2.432557234270487,\n",
       " 5.904035871406721,\n",
       " 2.0825786017534558,\n",
       " 1.3851177896059539,\n",
       " 0.7553592344263184,\n",
       " 0.010508967157765494,\n",
       " 1.5704750840502923,\n",
       " 1.0499672241841551,\n",
       " 0.32754790540576745,\n",
       " 0.04219338950638782,\n",
       " 0.001283633970292028,\n",
       " 0.008151841982603047,\n",
       " 0.00634615372571634,\n",
       " 0.17018753099146913,\n",
       " 0.7843181774034201,\n",
       " 1.2821114619906375,\n",
       " 0.609736030462185,\n",
       " 0.7938145193326988,\n",
       " 0.9000423216566051,\n",
       " 0.481555790039163,\n",
       " 2.6359066424503146,\n",
       " 1.5015426143299266,\n",
       " 0.7969516326923717,\n",
       " 0.7378417189020141,\n",
       " 2.3632519598867154,\n",
       " 0.6132449272323715,\n",
       " 0.8694937279264695,\n",
       " 1.2772782342049838,\n",
       " 0.9515875726197377,\n",
       " 3.057332455214213,\n",
       " 0.9446390007643766,\n",
       " 3.9391049040579142,\n",
       " 0.48572330829611743,\n",
       " 1.0290390154329896,\n",
       " 3.321843963013457,\n",
       " 1.7911874053362593,\n",
       " 0.9746290232856968,\n",
       " 1.7306468642421082,\n",
       " 3.423777429157054,\n",
       " 0.17439445805021545,\n",
       " 0.014223220002469547,\n",
       " 0.18189680164790517,\n",
       " 0.19397213799670018,\n",
       " 0.08056343695006363,\n",
       " 0.0850859324347379,\n",
       " 0.11713595317891368,\n",
       " 0.04859755514321231,\n",
       " 0.0035804649443778886,\n",
       " 0.05133507135845267,\n",
       " 0.023949698193951315,\n",
       " 0.034553053927042054,\n",
       " 0.03290087707100041,\n",
       " 0.08716851568201832,\n",
       " 0.004596783118489061,\n",
       " 0.0030195610110946226,\n",
       " 0.000868629271114561,\n",
       " 0.12424954402116285,\n",
       " 0.04719639257227997,\n",
       " 0.06426021466790614,\n",
       " 0.003617067817076985,\n",
       " 0.04475548457577105,\n",
       " 0.10157966884846795,\n",
       " 0.09575279992533545,\n",
       " 0.1147241974150479,\n",
       " 0.01001912645434431,\n",
       " 0.015181759459426646,\n",
       " 0.1332165689827494,\n",
       " 0.0837676373429078,\n",
       " 0.19267531837255605,\n",
       " 0.06710371718112514,\n",
       " 0.06710371718122556,\n",
       " ...]"
      ]
     },
     "execution_count": 51,
     "metadata": {},
     "output_type": "execute_result"
    }
   ],
   "source": [
    "dis"
   ]
  },
  {
   "cell_type": "code",
   "execution_count": 50,
   "metadata": {},
   "outputs": [
    {
     "ename": "KeyError",
     "evalue": "11670",
     "output_type": "error",
     "traceback": [
      "\u001b[0;31m---------------------------------------------------------------------------\u001b[0m",
      "\u001b[0;31mKeyError\u001b[0m                                  Traceback (most recent call last)",
      "\u001b[0;32m<ipython-input-50-f742e83e2f14>\u001b[0m in \u001b[0;36m<module>\u001b[0;34m()\u001b[0m\n\u001b[1;32m      4\u001b[0m \u001b[0;32mfor\u001b[0m \u001b[0mi\u001b[0m \u001b[0;32min\u001b[0m \u001b[0mrange\u001b[0m\u001b[0;34m(\u001b[0m\u001b[0mlen\u001b[0m\u001b[0;34m(\u001b[0m\u001b[0mdf1\u001b[0m\u001b[0;34m.\u001b[0m\u001b[0mlon\u001b[0m\u001b[0;34m)\u001b[0m\u001b[0;34m)\u001b[0m\u001b[0;34m:\u001b[0m\u001b[0;34m\u001b[0m\u001b[0m\n\u001b[1;32m      5\u001b[0m     \u001b[0mpoint1\u001b[0m \u001b[0;34m=\u001b[0m \u001b[0;34m(\u001b[0m\u001b[0mdf1\u001b[0m\u001b[0;34m.\u001b[0m\u001b[0mlon\u001b[0m\u001b[0;34m[\u001b[0m\u001b[0mi\u001b[0m\u001b[0;34m]\u001b[0m\u001b[0;34m,\u001b[0m \u001b[0mdf1\u001b[0m\u001b[0;34m.\u001b[0m\u001b[0mlat\u001b[0m\u001b[0;34m[\u001b[0m\u001b[0mi\u001b[0m\u001b[0;34m]\u001b[0m\u001b[0;34m)\u001b[0m\u001b[0;34m\u001b[0m\u001b[0m\n\u001b[0;32m----> 6\u001b[0;31m     \u001b[0mpoint2\u001b[0m \u001b[0;34m=\u001b[0m \u001b[0;34m(\u001b[0m\u001b[0mdf1\u001b[0m\u001b[0;34m.\u001b[0m\u001b[0mlon\u001b[0m\u001b[0;34m[\u001b[0m\u001b[0mi\u001b[0m\u001b[0;34m+\u001b[0m \u001b[0;36m1\u001b[0m\u001b[0;34m]\u001b[0m\u001b[0;34m,\u001b[0m \u001b[0mdf1\u001b[0m\u001b[0;34m.\u001b[0m\u001b[0mlat\u001b[0m\u001b[0;34m[\u001b[0m\u001b[0mi\u001b[0m\u001b[0;34m+\u001b[0m \u001b[0;36m1\u001b[0m\u001b[0;34m]\u001b[0m\u001b[0;34m)\u001b[0m\u001b[0;34m\u001b[0m\u001b[0m\n\u001b[0m\u001b[1;32m      7\u001b[0m     \u001b[0mr\u001b[0m \u001b[0;34m=\u001b[0m \u001b[0;34m(\u001b[0m\u001b[0mvincenty\u001b[0m\u001b[0;34m(\u001b[0m\u001b[0mpoint1\u001b[0m\u001b[0;34m,\u001b[0m \u001b[0mpoint2\u001b[0m\u001b[0;34m)\u001b[0m\u001b[0;34m.\u001b[0m\u001b[0mmiles\u001b[0m\u001b[0;34m)\u001b[0m\u001b[0;34m\u001b[0m\u001b[0m\n\u001b[1;32m      8\u001b[0m \u001b[0;34m\u001b[0m\u001b[0m\n",
      "\u001b[0;32m/Users/avigailvantu/anaconda2/lib/python2.7/site-packages/pandas/core/series.pyc\u001b[0m in \u001b[0;36m__getitem__\u001b[0;34m(self, key)\u001b[0m\n\u001b[1;32m    599\u001b[0m         \u001b[0mkey\u001b[0m \u001b[0;34m=\u001b[0m \u001b[0mcom\u001b[0m\u001b[0;34m.\u001b[0m\u001b[0m_apply_if_callable\u001b[0m\u001b[0;34m(\u001b[0m\u001b[0mkey\u001b[0m\u001b[0;34m,\u001b[0m \u001b[0mself\u001b[0m\u001b[0;34m)\u001b[0m\u001b[0;34m\u001b[0m\u001b[0m\n\u001b[1;32m    600\u001b[0m         \u001b[0;32mtry\u001b[0m\u001b[0;34m:\u001b[0m\u001b[0;34m\u001b[0m\u001b[0m\n\u001b[0;32m--> 601\u001b[0;31m             \u001b[0mresult\u001b[0m \u001b[0;34m=\u001b[0m \u001b[0mself\u001b[0m\u001b[0;34m.\u001b[0m\u001b[0mindex\u001b[0m\u001b[0;34m.\u001b[0m\u001b[0mget_value\u001b[0m\u001b[0;34m(\u001b[0m\u001b[0mself\u001b[0m\u001b[0;34m,\u001b[0m \u001b[0mkey\u001b[0m\u001b[0;34m)\u001b[0m\u001b[0;34m\u001b[0m\u001b[0m\n\u001b[0m\u001b[1;32m    602\u001b[0m \u001b[0;34m\u001b[0m\u001b[0m\n\u001b[1;32m    603\u001b[0m             \u001b[0;32mif\u001b[0m \u001b[0;32mnot\u001b[0m \u001b[0mis_scalar\u001b[0m\u001b[0;34m(\u001b[0m\u001b[0mresult\u001b[0m\u001b[0;34m)\u001b[0m\u001b[0;34m:\u001b[0m\u001b[0;34m\u001b[0m\u001b[0m\n",
      "\u001b[0;32m/Users/avigailvantu/anaconda2/lib/python2.7/site-packages/pandas/core/indexes/base.pyc\u001b[0m in \u001b[0;36mget_value\u001b[0;34m(self, series, key)\u001b[0m\n\u001b[1;32m   2475\u001b[0m         \u001b[0;32mtry\u001b[0m\u001b[0;34m:\u001b[0m\u001b[0;34m\u001b[0m\u001b[0m\n\u001b[1;32m   2476\u001b[0m             return self._engine.get_value(s, k,\n\u001b[0;32m-> 2477\u001b[0;31m                                           tz=getattr(series.dtype, 'tz', None))\n\u001b[0m\u001b[1;32m   2478\u001b[0m         \u001b[0;32mexcept\u001b[0m \u001b[0mKeyError\u001b[0m \u001b[0;32mas\u001b[0m \u001b[0me1\u001b[0m\u001b[0;34m:\u001b[0m\u001b[0;34m\u001b[0m\u001b[0m\n\u001b[1;32m   2479\u001b[0m             \u001b[0;32mif\u001b[0m \u001b[0mlen\u001b[0m\u001b[0;34m(\u001b[0m\u001b[0mself\u001b[0m\u001b[0;34m)\u001b[0m \u001b[0;34m>\u001b[0m \u001b[0;36m0\u001b[0m \u001b[0;32mand\u001b[0m \u001b[0mself\u001b[0m\u001b[0;34m.\u001b[0m\u001b[0minferred_type\u001b[0m \u001b[0;32min\u001b[0m \u001b[0;34m[\u001b[0m\u001b[0;34m'integer'\u001b[0m\u001b[0;34m,\u001b[0m \u001b[0;34m'boolean'\u001b[0m\u001b[0;34m]\u001b[0m\u001b[0;34m:\u001b[0m\u001b[0;34m\u001b[0m\u001b[0m\n",
      "\u001b[0;32mpandas/_libs/index.pyx\u001b[0m in \u001b[0;36mpandas._libs.index.IndexEngine.get_value\u001b[0;34m()\u001b[0m\n",
      "\u001b[0;32mpandas/_libs/index.pyx\u001b[0m in \u001b[0;36mpandas._libs.index.IndexEngine.get_value\u001b[0;34m()\u001b[0m\n",
      "\u001b[0;32mpandas/_libs/index.pyx\u001b[0m in \u001b[0;36mpandas._libs.index.IndexEngine.get_loc\u001b[0;34m()\u001b[0m\n",
      "\u001b[0;32mpandas/_libs/hashtable_class_helper.pxi\u001b[0m in \u001b[0;36mpandas._libs.hashtable.Int64HashTable.get_item\u001b[0;34m()\u001b[0m\n",
      "\u001b[0;32mpandas/_libs/hashtable_class_helper.pxi\u001b[0m in \u001b[0;36mpandas._libs.hashtable.Int64HashTable.get_item\u001b[0;34m()\u001b[0m\n",
      "\u001b[0;31mKeyError\u001b[0m: 11670"
     ]
    }
   ],
   "source": [
    "#now trying to append the distance \n",
    "#create a dictionary and add 0 to the first value  \n",
    "dis = [0,]\n",
    "for i in range(len(df1.lon)):\n",
    "    point1 = (df1.lon[i], df1.lat[i])\n",
    "    point2 = (df1.lon[i+ 1], df1.lat[i+ 1])\n",
    "    r = (vincenty(point1, point2).miles)\n",
    "    \n",
    "    dis.append(r)\n",
    "    \n",
    "    \n",
    "  "
   ]
  },
  {
   "cell_type": "code",
   "execution_count": 63,
   "metadata": {
    "collapsed": true
   },
   "outputs": [],
   "source": [
    "#ingore error in the previuos cell"
   ]
  },
  {
   "cell_type": "markdown",
   "metadata": {},
   "source": [
    "### dis is the list of distance b/w two tied points measured in miles\n"
   ]
  },
  {
   "cell_type": "code",
   "execution_count": 52,
   "metadata": {},
   "outputs": [
    {
     "data": {
      "text/plain": [
       "[0, 0.02109283968750707, 0.14134633897289162]"
      ]
     },
     "execution_count": 52,
     "metadata": {},
     "output_type": "execute_result"
    }
   ],
   "source": [
    "dis[:3]\n",
    "#len(df1)"
   ]
  },
  {
   "cell_type": "markdown",
   "metadata": {},
   "source": [
    "aggragate distance\n",
    "1. by day"
   ]
  },
  {
   "cell_type": "code",
   "execution_count": 95,
   "metadata": {},
   "outputs": [
    {
     "data": {
      "text/plain": [
       "63"
      ]
     },
     "execution_count": 95,
     "metadata": {},
     "output_type": "execute_result"
    }
   ],
   "source": [
    "len(df1[df1['date2'] == '2017-03-02' ])\n",
    "#print df1['date2'].min()"
   ]
  },
  {
   "cell_type": "markdown",
   "metadata": {},
   "source": [
    "## group by date, how many data points per day"
   ]
  },
  {
   "cell_type": "code",
   "execution_count": 91,
   "metadata": {},
   "outputs": [],
   "source": [
    "df2 = df1.groupby('date2')['date'].nunique()"
   ]
  },
  {
   "cell_type": "code",
   "execution_count": 96,
   "metadata": {},
   "outputs": [
    {
     "data": {
      "text/plain": [
       "date2\n",
       "2017-03-01    17\n",
       "2017-03-02    63\n",
       "2017-03-03    35\n",
       "2017-03-04    63\n",
       "2017-03-05    13\n",
       "Name: date, dtype: int64"
      ]
     },
     "execution_count": 96,
     "metadata": {},
     "output_type": "execute_result"
    }
   ],
   "source": [
    "df2.head()"
   ]
  },
  {
   "cell_type": "markdown",
   "metadata": {},
   "source": [
    "## plot data points per day"
   ]
  },
  {
   "cell_type": "code",
   "execution_count": 98,
   "metadata": {},
   "outputs": [
    {
     "data": {
      "image/png": "[encoded data removed]",
      "text/plain": [
       "<matplotlib.figure.Figure at 0x1a268b7a50>"
      ]
     },
     "metadata": {},
     "output_type": "display_data"
    }
   ],
   "source": [
    "import seaborn as sns\n",
    "sns.set(style=\"white\")\n",
    "sns.set(style=\"whitegrid\", color_codes=True)\n",
    "\n",
    "sns.countplot(y=\"date2\", data=df1)\n",
    "plt.show()"
   ]
  },
  {
   "cell_type": "code",
   "execution_count": 102,
   "metadata": {
    "collapsed": true
   },
   "outputs": [],
   "source": [
    "#how many workdays and how many weeknd data points"
   ]
  },
  {
   "cell_type": "code",
   "execution_count": 101,
   "metadata": {},
   "outputs": [
    {
     "data": {
      "image/png": "[encoded data removed]",
      "text/plain": [
       "<matplotlib.figure.Figure at 0x1a26974e50>"
      ]
     },
     "metadata": {},
     "output_type": "display_data"
    }
   ],
   "source": [
    "sns.countplot(y=\"workday\", data=df1)\n",
    "plt.show()"
   ]
  },
  {
   "cell_type": "code",
   "execution_count": 104,
   "metadata": {},
   "outputs": [
    {
     "data": {
      "image/png": "[encoded data removed]",
      "text/plain": [
       "<matplotlib.figure.Figure at 0x1a267d8f10>"
      ]
     },
     "metadata": {},
     "output_type": "display_data"
    }
   ],
   "source": [
    "#how man data points per day of the week\n",
    "#0= monday, 1=tuesday 2=wed, 3=thursday, 4=friday, 5=sat , 6= sunday\n",
    "\n",
    "sns.countplot(y=\"weekday\", data=df1)\n",
    "plt.show()"
   ]
  },
  {
   "cell_type": "code",
   "execution_count": 53,
   "metadata": {
    "collapsed": true
   },
   "outputs": [],
   "source": [
    "\n",
    "df1['distance'] = dis"
   ]
  },
  {
   "cell_type": "code",
   "execution_count": 54,
   "metadata": {},
   "outputs": [
    {
     "data": {
      "text/html": [
       "<div>\n",
       "<style>\n",
       "    .dataframe thead tr:only-child th {\n",
       "        text-align: right;\n",
       "    }\n",
       "\n",
       "    .dataframe thead th {\n",
       "        text-align: left;\n",
       "    }\n",
       "\n",
       "    .dataframe tbody tr th {\n",
       "        vertical-align: top;\n",
       "    }\n",
       "</style>\n",
       "<table border=\"1\" class=\"dataframe\">\n",
       "  <thead>\n",
       "    <tr style=\"text-align: right;\">\n",
       "      <th></th>\n",
       "      <th>date</th>\n",
       "      <th>date2</th>\n",
       "      <th>time</th>\n",
       "      <th>time1</th>\n",
       "      <th>lon</th>\n",
       "      <th>lat</th>\n",
       "      <th>weekday</th>\n",
       "      <th>workday</th>\n",
       "      <th>distance</th>\n",
       "    </tr>\n",
       "  </thead>\n",
       "  <tbody>\n",
       "    <tr>\n",
       "      <th>0</th>\n",
       "      <td>2017-10-09 09:28:39</td>\n",
       "      <td>2017-10-09</td>\n",
       "      <td>09:28:39</td>\n",
       "      <td>[09, 28, 39]</td>\n",
       "      <td>-73.994169</td>\n",
       "      <td>40.729152</td>\n",
       "      <td>0</td>\n",
       "      <td>1</td>\n",
       "      <td>0.000000</td>\n",
       "    </tr>\n",
       "    <tr>\n",
       "      <th>1</th>\n",
       "      <td>2017-10-09 09:26:35</td>\n",
       "      <td>2017-10-09</td>\n",
       "      <td>09:26:35</td>\n",
       "      <td>[09, 26, 35]</td>\n",
       "      <td>-73.993865</td>\n",
       "      <td>40.729172</td>\n",
       "      <td>0</td>\n",
       "      <td>1</td>\n",
       "      <td>0.021093</td>\n",
       "    </tr>\n",
       "    <tr>\n",
       "      <th>2</th>\n",
       "      <td>2017-10-09 09:24:11</td>\n",
       "      <td>2017-10-09</td>\n",
       "      <td>09:24:11</td>\n",
       "      <td>[09, 24, 11]</td>\n",
       "      <td>-73.995774</td>\n",
       "      <td>40.726589</td>\n",
       "      <td>0</td>\n",
       "      <td>1</td>\n",
       "      <td>0.141346</td>\n",
       "    </tr>\n",
       "    <tr>\n",
       "      <th>3</th>\n",
       "      <td>2017-10-09 09:20:15</td>\n",
       "      <td>2017-10-09</td>\n",
       "      <td>09:20:15</td>\n",
       "      <td>[09, 20, 15]</td>\n",
       "      <td>-73.994261</td>\n",
       "      <td>40.727734</td>\n",
       "      <td>0</td>\n",
       "      <td>1</td>\n",
       "      <td>0.107236</td>\n",
       "    </tr>\n",
       "    <tr>\n",
       "      <th>4</th>\n",
       "      <td>2017-10-09 09:14:04</td>\n",
       "      <td>2017-10-09</td>\n",
       "      <td>09:14:04</td>\n",
       "      <td>[09, 14, 04]</td>\n",
       "      <td>-73.988392</td>\n",
       "      <td>40.703564</td>\n",
       "      <td>0</td>\n",
       "      <td>1</td>\n",
       "      <td>0.616090</td>\n",
       "    </tr>\n",
       "  </tbody>\n",
       "</table>\n",
       "</div>"
      ],
      "text/plain": [
       "                  date       date2      time         time1        lon  \\\n",
       "0  2017-10-09 09:28:39  2017-10-09  09:28:39  [09, 28, 39] -73.994169   \n",
       "1  2017-10-09 09:26:35  2017-10-09  09:26:35  [09, 26, 35] -73.993865   \n",
       "2  2017-10-09 09:24:11  2017-10-09  09:24:11  [09, 24, 11] -73.995774   \n",
       "3  2017-10-09 09:20:15  2017-10-09  09:20:15  [09, 20, 15] -73.994261   \n",
       "4  2017-10-09 09:14:04  2017-10-09  09:14:04  [09, 14, 04] -73.988392   \n",
       "\n",
       "         lat  weekday workday  distance  \n",
       "0  40.729152        0       1  0.000000  \n",
       "1  40.729172        0       1  0.021093  \n",
       "2  40.726589        0       1  0.141346  \n",
       "3  40.727734        0       1  0.107236  \n",
       "4  40.703564        0       1  0.616090  "
      ]
     },
     "execution_count": 54,
     "metadata": {},
     "output_type": "execute_result"
    }
   ],
   "source": [
    "df1.head()"
   ]
  },
  {
   "cell_type": "markdown",
   "metadata": {},
   "source": [
    "## aggragate distance number by day"
   ]
  },
  {
   "cell_type": "code",
   "execution_count": 55,
   "metadata": {},
   "outputs": [
    {
     "name": "stdout",
     "output_type": "stream",
     "text": [
      "                    lon          lat  weekday   distance\n",
      "date2                                                   \n",
      "2017-03-01 -1257.793114   692.013807       34   2.422242\n",
      "2017-03-02 -4661.370800  2565.034743      189   9.266556\n",
      "2017-03-03 -2589.636052  1425.426485      140   4.818904\n",
      "2017-03-04 -4661.196477  2564.222065      315  10.720563\n",
      "2017-03-05  -961.707277   528.850521       78   0.379363\n"
     ]
    }
   ],
   "source": [
    "# each row is one day - distance is total distance traveled this day \n",
    "dis_day = df1.groupby('date2').sum()\n",
    "print dis_day.head()"
   ]
  },
  {
   "cell_type": "code",
   "execution_count": 56,
   "metadata": {},
   "outputs": [
    {
     "data": {
      "text/plain": [
       "223"
      ]
     },
     "execution_count": 56,
     "metadata": {},
     "output_type": "execute_result"
    }
   ],
   "source": [
    "len(dis_day)"
   ]
  },
  {
   "cell_type": "code",
   "execution_count": 57,
   "metadata": {},
   "outputs": [
    {
     "name": "stdout",
     "output_type": "stream",
     "text": [
      "max 7572.4430313\n",
      "min 0.379363339116\n"
     ]
    }
   ],
   "source": [
    "#maximun distance travled\n",
    "print \"max\", dis_day.distance.max()\n",
    "print \"min\", dis_day.distance.min()"
   ]
  },
  {
   "cell_type": "code",
   "execution_count": 58,
   "metadata": {},
   "outputs": [
    {
     "name": "stdout",
     "output_type": "stream",
     "text": [
      "max date                     lon          lat  weekday     distance\n",
      "date2                                                     \n",
      "2017-04-15  3282.180458  3013.638818      470  7572.443031\n",
      "min date Empty DataFrame\n",
      "Columns: [lon, lat, weekday, distance]\n",
      "Index: []\n"
     ]
    }
   ],
   "source": [
    "#find those observations:  \n",
    "print \"max date\", dis_day[dis_day['distance'] == 7572.4430313033154]\n",
    "print \"min date\", dis_day[dis_day['distance'] == 0.379363339116]"
   ]
  },
  {
   "cell_type": "code",
   "execution_count": 59,
   "metadata": {
    "collapsed": true
   },
   "outputs": [],
   "source": [
    "dis_day = dis_day.sort_values(['distance'], ascending=[True])"
   ]
  },
  {
   "cell_type": "code",
   "execution_count": 60,
   "metadata": {},
   "outputs": [
    {
     "data": {
      "text/html": [
       "<div>\n",
       "<style>\n",
       "    .dataframe thead tr:only-child th {\n",
       "        text-align: right;\n",
       "    }\n",
       "\n",
       "    .dataframe thead th {\n",
       "        text-align: left;\n",
       "    }\n",
       "\n",
       "    .dataframe tbody tr th {\n",
       "        vertical-align: top;\n",
       "    }\n",
       "</style>\n",
       "<table border=\"1\" class=\"dataframe\">\n",
       "  <thead>\n",
       "    <tr style=\"text-align: right;\">\n",
       "      <th></th>\n",
       "      <th>lon</th>\n",
       "      <th>lat</th>\n",
       "      <th>weekday</th>\n",
       "      <th>distance</th>\n",
       "    </tr>\n",
       "    <tr>\n",
       "      <th>date2</th>\n",
       "      <th></th>\n",
       "      <th></th>\n",
       "      <th></th>\n",
       "      <th></th>\n",
       "    </tr>\n",
       "  </thead>\n",
       "  <tbody>\n",
       "    <tr>\n",
       "      <th>2017-08-30</th>\n",
       "      <td>319.706725</td>\n",
       "      <td>3667.232903</td>\n",
       "      <td>148</td>\n",
       "      <td>826.357358</td>\n",
       "    </tr>\n",
       "    <tr>\n",
       "      <th>2017-09-05</th>\n",
       "      <td>-1676.329013</td>\n",
       "      <td>3979.552129</td>\n",
       "      <td>84</td>\n",
       "      <td>6041.316926</td>\n",
       "    </tr>\n",
       "    <tr>\n",
       "      <th>2017-08-29</th>\n",
       "      <td>-5026.209817</td>\n",
       "      <td>2766.164660</td>\n",
       "      <td>68</td>\n",
       "      <td>6044.864125</td>\n",
       "    </tr>\n",
       "    <tr>\n",
       "      <th>2017-04-01</th>\n",
       "      <td>-4359.779997</td>\n",
       "      <td>2399.309693</td>\n",
       "      <td>295</td>\n",
       "      <td>7514.971033</td>\n",
       "    </tr>\n",
       "    <tr>\n",
       "      <th>2017-04-15</th>\n",
       "      <td>3282.180458</td>\n",
       "      <td>3013.638818</td>\n",
       "      <td>470</td>\n",
       "      <td>7572.443031</td>\n",
       "    </tr>\n",
       "  </tbody>\n",
       "</table>\n",
       "</div>"
      ],
      "text/plain": [
       "                    lon          lat  weekday     distance\n",
       "date2                                                     \n",
       "2017-08-30   319.706725  3667.232903      148   826.357358\n",
       "2017-09-05 -1676.329013  3979.552129       84  6041.316926\n",
       "2017-08-29 -5026.209817  2766.164660       68  6044.864125\n",
       "2017-04-01 -4359.779997  2399.309693      295  7514.971033\n",
       "2017-04-15  3282.180458  3013.638818      470  7572.443031"
      ]
     },
     "execution_count": 60,
     "metadata": {},
     "output_type": "execute_result"
    }
   ],
   "source": [
    "#the five days most distnace\n",
    "dis_day[218:223]\n"
   ]
  },
  {
   "cell_type": "code",
   "execution_count": 61,
   "metadata": {},
   "outputs": [
    {
     "data": {
      "text/html": [
       "<div>\n",
       "<style>\n",
       "    .dataframe thead tr:only-child th {\n",
       "        text-align: right;\n",
       "    }\n",
       "\n",
       "    .dataframe thead th {\n",
       "        text-align: left;\n",
       "    }\n",
       "\n",
       "    .dataframe tbody tr th {\n",
       "        vertical-align: top;\n",
       "    }\n",
       "</style>\n",
       "<table border=\"1\" class=\"dataframe\">\n",
       "  <thead>\n",
       "    <tr style=\"text-align: right;\">\n",
       "      <th></th>\n",
       "      <th>lon</th>\n",
       "      <th>lat</th>\n",
       "      <th>weekday</th>\n",
       "      <th>distance</th>\n",
       "    </tr>\n",
       "    <tr>\n",
       "      <th>date2</th>\n",
       "      <th></th>\n",
       "      <th></th>\n",
       "      <th></th>\n",
       "      <th></th>\n",
       "    </tr>\n",
       "  </thead>\n",
       "  <tbody>\n",
       "    <tr>\n",
       "      <th>2017-03-05</th>\n",
       "      <td>-961.707277</td>\n",
       "      <td>528.850521</td>\n",
       "      <td>78</td>\n",
       "      <td>0.379363</td>\n",
       "    </tr>\n",
       "    <tr>\n",
       "      <th>2017-06-24</th>\n",
       "      <td>-813.744471</td>\n",
       "      <td>447.484287</td>\n",
       "      <td>55</td>\n",
       "      <td>0.449527</td>\n",
       "    </tr>\n",
       "    <tr>\n",
       "      <th>2017-04-10</th>\n",
       "      <td>1018.304142</td>\n",
       "      <td>932.296790</td>\n",
       "      <td>0</td>\n",
       "      <td>0.711925</td>\n",
       "    </tr>\n",
       "    <tr>\n",
       "      <th>2017-03-12</th>\n",
       "      <td>-1849.427907</td>\n",
       "      <td>1017.034198</td>\n",
       "      <td>150</td>\n",
       "      <td>0.946742</td>\n",
       "    </tr>\n",
       "    <tr>\n",
       "      <th>2017-08-02</th>\n",
       "      <td>-1183.620566</td>\n",
       "      <td>650.845830</td>\n",
       "      <td>32</td>\n",
       "      <td>0.975789</td>\n",
       "    </tr>\n",
       "  </tbody>\n",
       "</table>\n",
       "</div>"
      ],
      "text/plain": [
       "                    lon          lat  weekday  distance\n",
       "date2                                                  \n",
       "2017-03-05  -961.707277   528.850521       78  0.379363\n",
       "2017-06-24  -813.744471   447.484287       55  0.449527\n",
       "2017-04-10  1018.304142   932.296790        0  0.711925\n",
       "2017-03-12 -1849.427907  1017.034198      150  0.946742\n",
       "2017-08-02 -1183.620566   650.845830       32  0.975789"
      ]
     },
     "execution_count": 61,
     "metadata": {},
     "output_type": "execute_result"
    }
   ],
   "source": [
    "#the five days least distnace\n",
    "dis_day[:5]"
   ]
  },
  {
   "cell_type": "code",
   "execution_count": null,
   "metadata": {
    "collapsed": true
   },
   "outputs": [],
   "source": []
  },
  {
   "cell_type": "code",
   "execution_count": null,
   "metadata": {
    "collapsed": true
   },
   "outputs": [],
   "source": []
  }
 ],
 "metadata": {
  "kernelspec": {
   "display_name": "Python 2",
   "language": "python",
   "name": "python2"
  },
  "language_info": {
   "codemirror_mode": {
    "name": "ipython",
    "version": 2
   },
   "file_extension": ".py",
   "mimetype": "text/x-python",
   "name": "python",
   "nbconvert_exporter": "python",
   "pygments_lexer": "ipython2",
   "version": "2.7.14"
  }
 },
 "nbformat": 4,
 "nbformat_minor": 2
}
